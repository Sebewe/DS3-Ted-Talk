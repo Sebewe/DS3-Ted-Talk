{
 "cells": [
  {
   "attachments": {},
   "cell_type": "markdown",
   "id": "2053c5e2",
   "metadata": {},
   "source": [
    "This uses LinearSVC instead of gaussian because I could gaussian and randomforest require two different output arrays but LinearSVC required only sparse matrices. Also has the visualization I did wednesday, \n"
   ]
  },
  {
   "cell_type": "code",
   "execution_count": 2,
   "id": "d0aa1577",
   "metadata": {
    "scrolled": true
   },
   "outputs": [
    {
     "name": "stdout",
     "output_type": "stream",
     "text": [
      "Collecting spacy\n",
      "  Downloading spacy-3.5.3-cp311-cp311-macosx_11_0_arm64.whl (6.5 MB)\n",
      "\u001b[2K     \u001b[38;2;114;156;31m━━━━━━━━━━━━━━━━━━━━━━━━━━━━━━━━━━━━━━━━\u001b[0m \u001b[32m6.5/6.5 MB\u001b[0m \u001b[31m5.8 MB/s\u001b[0m eta \u001b[36m0:00:00\u001b[0mm eta \u001b[36m0:00:01\u001b[0m0:01\u001b[0m:01\u001b[0m\n",
      "\u001b[?25hCollecting spacy-legacy<3.1.0,>=3.0.11\n",
      "  Using cached spacy_legacy-3.0.12-py2.py3-none-any.whl (29 kB)\n",
      "Collecting spacy-loggers<2.0.0,>=1.0.0\n",
      "  Using cached spacy_loggers-1.0.4-py3-none-any.whl (11 kB)\n",
      "Collecting murmurhash<1.1.0,>=0.28.0\n",
      "  Downloading murmurhash-1.0.9-cp311-cp311-macosx_11_0_arm64.whl (18 kB)\n",
      "Collecting cymem<2.1.0,>=2.0.2\n",
      "  Downloading cymem-2.0.7-cp311-cp311-macosx_11_0_arm64.whl (30 kB)\n",
      "Collecting preshed<3.1.0,>=3.0.2\n",
      "  Downloading preshed-3.0.8-cp311-cp311-macosx_11_0_arm64.whl (98 kB)\n",
      "\u001b[2K     \u001b[38;2;114;156;31m━━━━━━━━━━━━━━━━━━━━━━━━━━━━━━━━━━━━━━━━\u001b[0m \u001b[32m98.2/98.2 kB\u001b[0m \u001b[31m2.9 MB/s\u001b[0m eta \u001b[36m0:00:00\u001b[0m\n",
      "\u001b[?25hCollecting thinc<8.2.0,>=8.1.8\n",
      "  Downloading thinc-8.1.10-cp311-cp311-macosx_11_0_arm64.whl (770 kB)\n",
      "\u001b[2K     \u001b[38;2;114;156;31m━━━━━━━━━━━━━━━━━━━━━━━━━━━━━━━━━━━━━━━\u001b[0m \u001b[32m770.0/770.0 kB\u001b[0m \u001b[31m7.7 MB/s\u001b[0m eta \u001b[36m0:00:00\u001b[0mm eta \u001b[36m0:00:01\u001b[0m0:01\u001b[0m\n",
      "\u001b[?25hCollecting wasabi<1.2.0,>=0.9.1\n",
      "  Using cached wasabi-1.1.1-py3-none-any.whl (27 kB)\n",
      "Collecting srsly<3.0.0,>=2.4.3\n",
      "  Downloading srsly-2.4.6-cp311-cp311-macosx_11_0_arm64.whl (487 kB)\n",
      "\u001b[2K     \u001b[38;2;114;156;31m━━━━━━━━━━━━━━━━━━━━━━━━━━━━━━━━━━━━━━━\u001b[0m \u001b[32m487.6/487.6 kB\u001b[0m \u001b[31m2.6 MB/s\u001b[0m eta \u001b[36m0:00:00\u001b[0m[31m3.0 MB/s\u001b[0m eta \u001b[36m0:00:01\u001b[0m\n",
      "\u001b[?25hCollecting catalogue<2.1.0,>=2.0.6\n",
      "  Using cached catalogue-2.0.8-py3-none-any.whl (17 kB)\n",
      "Collecting typer<0.8.0,>=0.3.0\n",
      "  Using cached typer-0.7.0-py3-none-any.whl (38 kB)\n",
      "Collecting pathy>=0.10.0\n",
      "  Using cached pathy-0.10.1-py3-none-any.whl (48 kB)\n",
      "Collecting smart-open<7.0.0,>=5.2.1\n",
      "  Using cached smart_open-6.3.0-py3-none-any.whl (56 kB)\n",
      "Requirement already satisfied: tqdm<5.0.0,>=4.38.0 in /Users/sebastian/miniforge3/envs/ted-talks/lib/python3.11/site-packages (from spacy) (4.64.1)\n",
      "Requirement already satisfied: numpy>=1.15.0 in /Users/sebastian/miniforge3/envs/ted-talks/lib/python3.11/site-packages (from spacy) (1.24.1)\n",
      "Requirement already satisfied: requests<3.0.0,>=2.13.0 in /Users/sebastian/miniforge3/envs/ted-talks/lib/python3.11/site-packages (from spacy) (2.29.0)\n",
      "Collecting pydantic!=1.8,!=1.8.1,<1.11.0,>=1.7.4\n",
      "  Downloading pydantic-1.10.7-cp311-cp311-macosx_11_0_arm64.whl (2.5 MB)\n",
      "\u001b[2K     \u001b[38;2;114;156;31m━━━━━━━━━━━━━━━━━━━━━━━━━━━━━━━━━━━━━━━━\u001b[0m \u001b[32m2.5/2.5 MB\u001b[0m \u001b[31m4.1 MB/s\u001b[0m eta \u001b[36m0:00:00\u001b[0mm eta \u001b[36m0:00:01\u001b[0m0:01\u001b[0m:01\u001b[0m\n",
      "\u001b[?25hRequirement already satisfied: jinja2 in /Users/sebastian/miniforge3/envs/ted-talks/lib/python3.11/site-packages (from spacy) (3.1.2)\n",
      "Requirement already satisfied: setuptools in /Users/sebastian/miniforge3/envs/ted-talks/lib/python3.11/site-packages (from spacy) (66.1.0)\n",
      "Requirement already satisfied: packaging>=20.0 in /Users/sebastian/miniforge3/envs/ted-talks/lib/python3.11/site-packages (from spacy) (23.0)\n",
      "Collecting langcodes<4.0.0,>=3.2.0\n",
      "  Using cached langcodes-3.3.0-py3-none-any.whl (181 kB)\n",
      "Requirement already satisfied: typing-extensions>=4.2.0 in /Users/sebastian/miniforge3/envs/ted-talks/lib/python3.11/site-packages (from pydantic!=1.8,!=1.8.1,<1.11.0,>=1.7.4->spacy) (4.4.0)\n",
      "Requirement already satisfied: charset-normalizer<4,>=2 in /Users/sebastian/miniforge3/envs/ted-talks/lib/python3.11/site-packages (from requests<3.0.0,>=2.13.0->spacy) (3.0.1)\n",
      "Requirement already satisfied: idna<4,>=2.5 in /Users/sebastian/miniforge3/envs/ted-talks/lib/python3.11/site-packages (from requests<3.0.0,>=2.13.0->spacy) (3.4)\n",
      "Requirement already satisfied: urllib3<1.27,>=1.21.1 in /Users/sebastian/miniforge3/envs/ted-talks/lib/python3.11/site-packages (from requests<3.0.0,>=2.13.0->spacy) (1.26.15)\n",
      "Requirement already satisfied: certifi>=2017.4.17 in /Users/sebastian/miniforge3/envs/ted-talks/lib/python3.11/site-packages (from requests<3.0.0,>=2.13.0->spacy) (2022.12.7)\n",
      "Collecting blis<0.8.0,>=0.7.8\n",
      "  Downloading blis-0.7.9-cp311-cp311-macosx_11_0_arm64.whl (1.1 MB)\n",
      "\u001b[2K     \u001b[38;2;114;156;31m━━━━━━━━━━━━━━━━━━━━━━━━━━━━━━━━━━━━━━━━\u001b[0m \u001b[32m1.1/1.1 MB\u001b[0m \u001b[31m3.2 MB/s\u001b[0m eta \u001b[36m0:00:00\u001b[0m[31m3.4 MB/s\u001b[0m eta \u001b[36m0:00:01\u001b[0m\n",
      "\u001b[?25hCollecting confection<1.0.0,>=0.0.1\n",
      "  Using cached confection-0.0.4-py3-none-any.whl (32 kB)\n",
      "Requirement already satisfied: click<9.0.0,>=7.1.1 in /Users/sebastian/miniforge3/envs/ted-talks/lib/python3.11/site-packages (from typer<0.8.0,>=0.3.0->spacy) (8.1.3)\n",
      "Requirement already satisfied: MarkupSafe>=2.0 in /Users/sebastian/miniforge3/envs/ted-talks/lib/python3.11/site-packages (from jinja2->spacy) (2.1.2)\n",
      "Installing collected packages: cymem, wasabi, typer, spacy-loggers, spacy-legacy, smart-open, pydantic, murmurhash, langcodes, catalogue, blis, srsly, preshed, pathy, confection, thinc, spacy\n",
      "Successfully installed blis-0.7.9 catalogue-2.0.8 confection-0.0.4 cymem-2.0.7 langcodes-3.3.0 murmurhash-1.0.9 pathy-0.10.1 preshed-3.0.8 pydantic-1.10.7 smart-open-6.3.0 spacy-3.5.3 spacy-legacy-3.0.12 spacy-loggers-1.0.4 srsly-2.4.6 thinc-8.1.10 typer-0.7.0 wasabi-1.1.1\n",
      "Collecting en-core-web-sm==3.5.0\n",
      "  Downloading https://github.com/explosion/spacy-models/releases/download/en_core_web_sm-3.5.0/en_core_web_sm-3.5.0-py3-none-any.whl (12.8 MB)\n",
      "\u001b[2K     \u001b[38;2;114;156;31m━━━━━━━━━━━━━━━━━━━━━━━━━━━━━━━━━━━━━━━━\u001b[0m \u001b[32m12.8/12.8 MB\u001b[0m \u001b[31m7.7 MB/s\u001b[0m eta \u001b[36m0:00:00\u001b[0mm eta \u001b[36m0:00:01\u001b[0m[36m0:00:01\u001b[0m\n",
      "\u001b[?25hRequirement already satisfied: spacy<3.6.0,>=3.5.0 in /Users/sebastian/miniforge3/envs/ted-talks/lib/python3.11/site-packages (from en-core-web-sm==3.5.0) (3.5.3)\n",
      "Requirement already satisfied: spacy-legacy<3.1.0,>=3.0.11 in /Users/sebastian/miniforge3/envs/ted-talks/lib/python3.11/site-packages (from spacy<3.6.0,>=3.5.0->en-core-web-sm==3.5.0) (3.0.12)\n",
      "Requirement already satisfied: spacy-loggers<2.0.0,>=1.0.0 in /Users/sebastian/miniforge3/envs/ted-talks/lib/python3.11/site-packages (from spacy<3.6.0,>=3.5.0->en-core-web-sm==3.5.0) (1.0.4)\n",
      "Requirement already satisfied: murmurhash<1.1.0,>=0.28.0 in /Users/sebastian/miniforge3/envs/ted-talks/lib/python3.11/site-packages (from spacy<3.6.0,>=3.5.0->en-core-web-sm==3.5.0) (1.0.9)\n",
      "Requirement already satisfied: cymem<2.1.0,>=2.0.2 in /Users/sebastian/miniforge3/envs/ted-talks/lib/python3.11/site-packages (from spacy<3.6.0,>=3.5.0->en-core-web-sm==3.5.0) (2.0.7)\n",
      "Requirement already satisfied: preshed<3.1.0,>=3.0.2 in /Users/sebastian/miniforge3/envs/ted-talks/lib/python3.11/site-packages (from spacy<3.6.0,>=3.5.0->en-core-web-sm==3.5.0) (3.0.8)\n",
      "Requirement already satisfied: thinc<8.2.0,>=8.1.8 in /Users/sebastian/miniforge3/envs/ted-talks/lib/python3.11/site-packages (from spacy<3.6.0,>=3.5.0->en-core-web-sm==3.5.0) (8.1.10)\n",
      "Requirement already satisfied: wasabi<1.2.0,>=0.9.1 in /Users/sebastian/miniforge3/envs/ted-talks/lib/python3.11/site-packages (from spacy<3.6.0,>=3.5.0->en-core-web-sm==3.5.0) (1.1.1)\n",
      "Requirement already satisfied: srsly<3.0.0,>=2.4.3 in /Users/sebastian/miniforge3/envs/ted-talks/lib/python3.11/site-packages (from spacy<3.6.0,>=3.5.0->en-core-web-sm==3.5.0) (2.4.6)\n",
      "Requirement already satisfied: catalogue<2.1.0,>=2.0.6 in /Users/sebastian/miniforge3/envs/ted-talks/lib/python3.11/site-packages (from spacy<3.6.0,>=3.5.0->en-core-web-sm==3.5.0) (2.0.8)\n",
      "Requirement already satisfied: typer<0.8.0,>=0.3.0 in /Users/sebastian/miniforge3/envs/ted-talks/lib/python3.11/site-packages (from spacy<3.6.0,>=3.5.0->en-core-web-sm==3.5.0) (0.7.0)\n",
      "Requirement already satisfied: pathy>=0.10.0 in /Users/sebastian/miniforge3/envs/ted-talks/lib/python3.11/site-packages (from spacy<3.6.0,>=3.5.0->en-core-web-sm==3.5.0) (0.10.1)\n",
      "Requirement already satisfied: smart-open<7.0.0,>=5.2.1 in /Users/sebastian/miniforge3/envs/ted-talks/lib/python3.11/site-packages (from spacy<3.6.0,>=3.5.0->en-core-web-sm==3.5.0) (6.3.0)\n",
      "Requirement already satisfied: tqdm<5.0.0,>=4.38.0 in /Users/sebastian/miniforge3/envs/ted-talks/lib/python3.11/site-packages (from spacy<3.6.0,>=3.5.0->en-core-web-sm==3.5.0) (4.64.1)\n",
      "Requirement already satisfied: numpy>=1.15.0 in /Users/sebastian/miniforge3/envs/ted-talks/lib/python3.11/site-packages (from spacy<3.6.0,>=3.5.0->en-core-web-sm==3.5.0) (1.24.1)\n",
      "Requirement already satisfied: requests<3.0.0,>=2.13.0 in /Users/sebastian/miniforge3/envs/ted-talks/lib/python3.11/site-packages (from spacy<3.6.0,>=3.5.0->en-core-web-sm==3.5.0) (2.29.0)\n",
      "Requirement already satisfied: pydantic!=1.8,!=1.8.1,<1.11.0,>=1.7.4 in /Users/sebastian/miniforge3/envs/ted-talks/lib/python3.11/site-packages (from spacy<3.6.0,>=3.5.0->en-core-web-sm==3.5.0) (1.10.7)\n",
      "Requirement already satisfied: jinja2 in /Users/sebastian/miniforge3/envs/ted-talks/lib/python3.11/site-packages (from spacy<3.6.0,>=3.5.0->en-core-web-sm==3.5.0) (3.1.2)\n",
      "Requirement already satisfied: setuptools in /Users/sebastian/miniforge3/envs/ted-talks/lib/python3.11/site-packages (from spacy<3.6.0,>=3.5.0->en-core-web-sm==3.5.0) (66.1.0)\n",
      "Requirement already satisfied: packaging>=20.0 in /Users/sebastian/miniforge3/envs/ted-talks/lib/python3.11/site-packages (from spacy<3.6.0,>=3.5.0->en-core-web-sm==3.5.0) (23.0)\n",
      "Requirement already satisfied: langcodes<4.0.0,>=3.2.0 in /Users/sebastian/miniforge3/envs/ted-talks/lib/python3.11/site-packages (from spacy<3.6.0,>=3.5.0->en-core-web-sm==3.5.0) (3.3.0)\n",
      "Requirement already satisfied: typing-extensions>=4.2.0 in /Users/sebastian/miniforge3/envs/ted-talks/lib/python3.11/site-packages (from pydantic!=1.8,!=1.8.1,<1.11.0,>=1.7.4->spacy<3.6.0,>=3.5.0->en-core-web-sm==3.5.0) (4.4.0)\n",
      "Requirement already satisfied: charset-normalizer<4,>=2 in /Users/sebastian/miniforge3/envs/ted-talks/lib/python3.11/site-packages (from requests<3.0.0,>=2.13.0->spacy<3.6.0,>=3.5.0->en-core-web-sm==3.5.0) (3.0.1)\n",
      "Requirement already satisfied: idna<4,>=2.5 in /Users/sebastian/miniforge3/envs/ted-talks/lib/python3.11/site-packages (from requests<3.0.0,>=2.13.0->spacy<3.6.0,>=3.5.0->en-core-web-sm==3.5.0) (3.4)\n",
      "Requirement already satisfied: urllib3<1.27,>=1.21.1 in /Users/sebastian/miniforge3/envs/ted-talks/lib/python3.11/site-packages (from requests<3.0.0,>=2.13.0->spacy<3.6.0,>=3.5.0->en-core-web-sm==3.5.0) (1.26.15)\n",
      "Requirement already satisfied: certifi>=2017.4.17 in /Users/sebastian/miniforge3/envs/ted-talks/lib/python3.11/site-packages (from requests<3.0.0,>=2.13.0->spacy<3.6.0,>=3.5.0->en-core-web-sm==3.5.0) (2022.12.7)\n",
      "Requirement already satisfied: blis<0.8.0,>=0.7.8 in /Users/sebastian/miniforge3/envs/ted-talks/lib/python3.11/site-packages (from thinc<8.2.0,>=8.1.8->spacy<3.6.0,>=3.5.0->en-core-web-sm==3.5.0) (0.7.9)\n",
      "Requirement already satisfied: confection<1.0.0,>=0.0.1 in /Users/sebastian/miniforge3/envs/ted-talks/lib/python3.11/site-packages (from thinc<8.2.0,>=8.1.8->spacy<3.6.0,>=3.5.0->en-core-web-sm==3.5.0) (0.0.4)\n",
      "Requirement already satisfied: click<9.0.0,>=7.1.1 in /Users/sebastian/miniforge3/envs/ted-talks/lib/python3.11/site-packages (from typer<0.8.0,>=0.3.0->spacy<3.6.0,>=3.5.0->en-core-web-sm==3.5.0) (8.1.3)\n",
      "Requirement already satisfied: MarkupSafe>=2.0 in /Users/sebastian/miniforge3/envs/ted-talks/lib/python3.11/site-packages (from jinja2->spacy<3.6.0,>=3.5.0->en-core-web-sm==3.5.0) (2.1.2)\n",
      "Installing collected packages: en-core-web-sm\n",
      "Successfully installed en-core-web-sm-3.5.0\n",
      "\u001b[38;5;2m✔ Download and installation successful\u001b[0m\n",
      "You can now load the package via spacy.load('en_core_web_sm')\n"
     ]
    }
   ],
   "source": [
    "!pip install spacy\n",
    "!python -m spacy download en_core_web_sm"
   ]
  },
  {
   "cell_type": "code",
   "execution_count": 41,
   "id": "2e38ab48",
   "metadata": {},
   "outputs": [],
   "source": [
    "from matplotlib import pyplot as plt\n",
    "import pandas as pd\n",
    "import numpy as np\n",
    "from collections import defaultdict \n",
    "import spacy\n",
    "import en_core_web_sm\n",
    "from sklearn.feature_extraction.text import TfidfVectorizer\n",
    "from sklearn.feature_extraction.text import CountVectorizer\n",
    "from sklearn.preprocessing import OneHotEncoder\n",
    "from sklearn.mixture import GaussianMixture\n",
    "from sklearn.model_selection import train_test_split\n",
    "from sklearn.compose import ColumnTransformer\n",
    "from sklearn.preprocessing import FunctionTransformer\n",
    "from sklearn.linear_model import LinearRegression # just to see if the model is even working\n",
    "from sklearn.pipeline import Pipeline\n",
    "from sklearn.tree import DecisionTreeClassifier\n",
    "from sklearn.feature_extraction.text import TfidfTransformer\n",
    "from sklearn.preprocessing import StandardScaler\n",
    "from collections import defaultdict\n",
    "import pickle\n",
    "from sklearn.metrics import accuracy_score\n",
    "import re\n",
    "from collections import Counter "
   ]
  },
  {
   "cell_type": "code",
   "execution_count": 4,
   "id": "149e3ac7",
   "metadata": {},
   "outputs": [],
   "source": [
    "import os\n",
    "# print(os.getcwd())"
   ]
  },
  {
   "cell_type": "code",
   "execution_count": 6,
   "id": "56eddccc",
   "metadata": {},
   "outputs": [],
   "source": [
    "raw = pd.read_csv('ted_talks_en.csv')"
   ]
  },
  {
   "cell_type": "code",
   "execution_count": 7,
   "id": "7078e882",
   "metadata": {},
   "outputs": [
    {
     "data": {
      "text/html": [
       "<div>\n",
       "<style scoped>\n",
       "    .dataframe tbody tr th:only-of-type {\n",
       "        vertical-align: middle;\n",
       "    }\n",
       "\n",
       "    .dataframe tbody tr th {\n",
       "        vertical-align: top;\n",
       "    }\n",
       "\n",
       "    .dataframe thead th {\n",
       "        text-align: right;\n",
       "    }\n",
       "</style>\n",
       "<table border=\"1\" class=\"dataframe\">\n",
       "  <thead>\n",
       "    <tr style=\"text-align: right;\">\n",
       "      <th></th>\n",
       "      <th>talk_id</th>\n",
       "      <th>title</th>\n",
       "      <th>speaker_1</th>\n",
       "      <th>all_speakers</th>\n",
       "      <th>occupations</th>\n",
       "      <th>about_speakers</th>\n",
       "      <th>views</th>\n",
       "      <th>recorded_date</th>\n",
       "      <th>published_date</th>\n",
       "      <th>event</th>\n",
       "      <th>native_lang</th>\n",
       "      <th>available_lang</th>\n",
       "      <th>comments</th>\n",
       "      <th>duration</th>\n",
       "      <th>topics</th>\n",
       "      <th>related_talks</th>\n",
       "      <th>url</th>\n",
       "      <th>description</th>\n",
       "      <th>transcript</th>\n",
       "    </tr>\n",
       "  </thead>\n",
       "  <tbody>\n",
       "    <tr>\n",
       "      <th>0</th>\n",
       "      <td>1</td>\n",
       "      <td>Averting the climate crisis</td>\n",
       "      <td>Al Gore</td>\n",
       "      <td>{0: 'Al Gore'}</td>\n",
       "      <td>{0: ['climate advocate']}</td>\n",
       "      <td>{0: 'Nobel Laureate Al Gore focused the world’...</td>\n",
       "      <td>3523392</td>\n",
       "      <td>2006-02-25</td>\n",
       "      <td>2006-06-27</td>\n",
       "      <td>TED2006</td>\n",
       "      <td>en</td>\n",
       "      <td>['ar', 'bg', 'cs', 'de', 'el', 'en', 'es', 'fa...</td>\n",
       "      <td>272.0</td>\n",
       "      <td>977</td>\n",
       "      <td>['alternative energy', 'cars', 'climate change...</td>\n",
       "      <td>{243: 'New thinking on the climate crisis', 54...</td>\n",
       "      <td>https://www.ted.com/talks/al_gore_averting_the...</td>\n",
       "      <td>With the same humor and humanity he exuded in ...</td>\n",
       "      <td>Thank you so much, Chris. And it's truly a gre...</td>\n",
       "    </tr>\n",
       "    <tr>\n",
       "      <th>1</th>\n",
       "      <td>92</td>\n",
       "      <td>The best stats you've ever seen</td>\n",
       "      <td>Hans Rosling</td>\n",
       "      <td>{0: 'Hans Rosling'}</td>\n",
       "      <td>{0: ['global health expert; data visionary']}</td>\n",
       "      <td>{0: 'In Hans Rosling’s hands, data sings. Glob...</td>\n",
       "      <td>14501685</td>\n",
       "      <td>2006-02-22</td>\n",
       "      <td>2006-06-27</td>\n",
       "      <td>TED2006</td>\n",
       "      <td>en</td>\n",
       "      <td>['ar', 'az', 'bg', 'bn', 'bs', 'cs', 'da', 'de...</td>\n",
       "      <td>628.0</td>\n",
       "      <td>1190</td>\n",
       "      <td>['Africa', 'Asia', 'Google', 'demo', 'economic...</td>\n",
       "      <td>{2056: \"Own your body's data\", 2296: 'A visual...</td>\n",
       "      <td>https://www.ted.com/talks/hans_rosling_the_bes...</td>\n",
       "      <td>You've never seen data presented like this. Wi...</td>\n",
       "      <td>About 10 years ago, I took on the task to teac...</td>\n",
       "    </tr>\n",
       "    <tr>\n",
       "      <th>2</th>\n",
       "      <td>7</td>\n",
       "      <td>Simplicity sells</td>\n",
       "      <td>David Pogue</td>\n",
       "      <td>{0: 'David Pogue'}</td>\n",
       "      <td>{0: ['technology columnist']}</td>\n",
       "      <td>{0: 'David Pogue is the personal technology co...</td>\n",
       "      <td>1920832</td>\n",
       "      <td>2006-02-24</td>\n",
       "      <td>2006-06-27</td>\n",
       "      <td>TED2006</td>\n",
       "      <td>en</td>\n",
       "      <td>['ar', 'bg', 'de', 'el', 'en', 'es', 'fa', 'fr...</td>\n",
       "      <td>124.0</td>\n",
       "      <td>1286</td>\n",
       "      <td>['computers', 'entertainment', 'interface desi...</td>\n",
       "      <td>{1725: '10 top time-saving tech tips', 2274: '...</td>\n",
       "      <td>https://www.ted.com/talks/david_pogue_simplici...</td>\n",
       "      <td>New York Times columnist David Pogue takes aim...</td>\n",
       "      <td>(Music: \"The Sound of Silence,\" Simon &amp; Garfun...</td>\n",
       "    </tr>\n",
       "    <tr>\n",
       "      <th>3</th>\n",
       "      <td>53</td>\n",
       "      <td>Greening the ghetto</td>\n",
       "      <td>Majora Carter</td>\n",
       "      <td>{0: 'Majora Carter'}</td>\n",
       "      <td>{0: ['activist for environmental justice']}</td>\n",
       "      <td>{0: 'Majora Carter redefined the field of envi...</td>\n",
       "      <td>2664069</td>\n",
       "      <td>2006-02-26</td>\n",
       "      <td>2006-06-27</td>\n",
       "      <td>TED2006</td>\n",
       "      <td>en</td>\n",
       "      <td>['ar', 'bg', 'bn', 'ca', 'cs', 'de', 'en', 'es...</td>\n",
       "      <td>219.0</td>\n",
       "      <td>1116</td>\n",
       "      <td>['MacArthur grant', 'activism', 'business', 'c...</td>\n",
       "      <td>{1041: '3 stories of local eco-entrepreneurshi...</td>\n",
       "      <td>https://www.ted.com/talks/majora_carter_greeni...</td>\n",
       "      <td>In an emotionally charged talk, MacArthur-winn...</td>\n",
       "      <td>If you're here today — and I'm very happy that...</td>\n",
       "    </tr>\n",
       "    <tr>\n",
       "      <th>4</th>\n",
       "      <td>66</td>\n",
       "      <td>Do schools kill creativity?</td>\n",
       "      <td>Sir Ken Robinson</td>\n",
       "      <td>{0: 'Sir Ken Robinson'}</td>\n",
       "      <td>{0: ['author', 'educator']}</td>\n",
       "      <td>{0: \"Creativity expert Sir Ken Robinson challe...</td>\n",
       "      <td>65051954</td>\n",
       "      <td>2006-02-25</td>\n",
       "      <td>2006-06-27</td>\n",
       "      <td>TED2006</td>\n",
       "      <td>en</td>\n",
       "      <td>['af', 'ar', 'az', 'be', 'bg', 'bn', 'ca', 'cs...</td>\n",
       "      <td>4931.0</td>\n",
       "      <td>1164</td>\n",
       "      <td>['children', 'creativity', 'culture', 'dance',...</td>\n",
       "      <td>{865: 'Bring on the learning revolution!', 173...</td>\n",
       "      <td>https://www.ted.com/talks/sir_ken_robinson_do_...</td>\n",
       "      <td>Sir Ken Robinson makes an entertaining and pro...</td>\n",
       "      <td>Good morning. How are you? (Audience) Good. It...</td>\n",
       "    </tr>\n",
       "  </tbody>\n",
       "</table>\n",
       "</div>"
      ],
      "text/plain": [
       "   talk_id                            title         speaker_1  \\\n",
       "0        1      Averting the climate crisis           Al Gore   \n",
       "1       92  The best stats you've ever seen      Hans Rosling   \n",
       "2        7                 Simplicity sells       David Pogue   \n",
       "3       53              Greening the ghetto     Majora Carter   \n",
       "4       66      Do schools kill creativity?  Sir Ken Robinson   \n",
       "\n",
       "              all_speakers                                    occupations  \\\n",
       "0           {0: 'Al Gore'}                      {0: ['climate advocate']}   \n",
       "1      {0: 'Hans Rosling'}  {0: ['global health expert; data visionary']}   \n",
       "2       {0: 'David Pogue'}                  {0: ['technology columnist']}   \n",
       "3     {0: 'Majora Carter'}    {0: ['activist for environmental justice']}   \n",
       "4  {0: 'Sir Ken Robinson'}                    {0: ['author', 'educator']}   \n",
       "\n",
       "                                      about_speakers     views recorded_date  \\\n",
       "0  {0: 'Nobel Laureate Al Gore focused the world’...   3523392    2006-02-25   \n",
       "1  {0: 'In Hans Rosling’s hands, data sings. Glob...  14501685    2006-02-22   \n",
       "2  {0: 'David Pogue is the personal technology co...   1920832    2006-02-24   \n",
       "3  {0: 'Majora Carter redefined the field of envi...   2664069    2006-02-26   \n",
       "4  {0: \"Creativity expert Sir Ken Robinson challe...  65051954    2006-02-25   \n",
       "\n",
       "  published_date    event native_lang  \\\n",
       "0     2006-06-27  TED2006          en   \n",
       "1     2006-06-27  TED2006          en   \n",
       "2     2006-06-27  TED2006          en   \n",
       "3     2006-06-27  TED2006          en   \n",
       "4     2006-06-27  TED2006          en   \n",
       "\n",
       "                                      available_lang  comments  duration  \\\n",
       "0  ['ar', 'bg', 'cs', 'de', 'el', 'en', 'es', 'fa...     272.0       977   \n",
       "1  ['ar', 'az', 'bg', 'bn', 'bs', 'cs', 'da', 'de...     628.0      1190   \n",
       "2  ['ar', 'bg', 'de', 'el', 'en', 'es', 'fa', 'fr...     124.0      1286   \n",
       "3  ['ar', 'bg', 'bn', 'ca', 'cs', 'de', 'en', 'es...     219.0      1116   \n",
       "4  ['af', 'ar', 'az', 'be', 'bg', 'bn', 'ca', 'cs...    4931.0      1164   \n",
       "\n",
       "                                              topics  \\\n",
       "0  ['alternative energy', 'cars', 'climate change...   \n",
       "1  ['Africa', 'Asia', 'Google', 'demo', 'economic...   \n",
       "2  ['computers', 'entertainment', 'interface desi...   \n",
       "3  ['MacArthur grant', 'activism', 'business', 'c...   \n",
       "4  ['children', 'creativity', 'culture', 'dance',...   \n",
       "\n",
       "                                       related_talks  \\\n",
       "0  {243: 'New thinking on the climate crisis', 54...   \n",
       "1  {2056: \"Own your body's data\", 2296: 'A visual...   \n",
       "2  {1725: '10 top time-saving tech tips', 2274: '...   \n",
       "3  {1041: '3 stories of local eco-entrepreneurshi...   \n",
       "4  {865: 'Bring on the learning revolution!', 173...   \n",
       "\n",
       "                                                 url  \\\n",
       "0  https://www.ted.com/talks/al_gore_averting_the...   \n",
       "1  https://www.ted.com/talks/hans_rosling_the_bes...   \n",
       "2  https://www.ted.com/talks/david_pogue_simplici...   \n",
       "3  https://www.ted.com/talks/majora_carter_greeni...   \n",
       "4  https://www.ted.com/talks/sir_ken_robinson_do_...   \n",
       "\n",
       "                                         description  \\\n",
       "0  With the same humor and humanity he exuded in ...   \n",
       "1  You've never seen data presented like this. Wi...   \n",
       "2  New York Times columnist David Pogue takes aim...   \n",
       "3  In an emotionally charged talk, MacArthur-winn...   \n",
       "4  Sir Ken Robinson makes an entertaining and pro...   \n",
       "\n",
       "                                          transcript  \n",
       "0  Thank you so much, Chris. And it's truly a gre...  \n",
       "1  About 10 years ago, I took on the task to teac...  \n",
       "2  (Music: \"The Sound of Silence,\" Simon & Garfun...  \n",
       "3  If you're here today — and I'm very happy that...  \n",
       "4  Good morning. How are you? (Audience) Good. It...  "
      ]
     },
     "execution_count": 7,
     "metadata": {},
     "output_type": "execute_result"
    }
   ],
   "source": [
    "raw.head()"
   ]
  },
  {
   "cell_type": "code",
   "execution_count": 8,
   "id": "3b6730ab",
   "metadata": {},
   "outputs": [],
   "source": [
    "arr = raw['topics'].to_numpy()\n",
    "keywords = defaultdict(int)\n",
    "for i, inner in enumerate(arr):\n",
    "    x = inner.split(\"'\")\n",
    "    for i, tag in enumerate(x):\n",
    "        if i % 2 != 0 and i != 0 and i != len(x) - 1:\n",
    "            keywords[tag.lower()] += 1"
   ]
  },
  {
   "cell_type": "code",
   "execution_count": 9,
   "id": "1b55891e",
   "metadata": {},
   "outputs": [],
   "source": [
    "most_common_keywords = sorted(list(keywords.keys()), key=lambda keyword: keywords[keyword])[::-1]\n",
    "occurences = [keywords[keyword] for keyword in most_common_keywords]\n",
    "#list(zip(most_common_keywords, occurences))"
   ]
  },
  {
   "cell_type": "code",
   "execution_count": 10,
   "id": "cdbd0e96",
   "metadata": {},
   "outputs": [
    {
     "data": {
      "text/plain": [
       "(array([176., 103.,  45.,  31.,  25.,  10.,  10.,  10.,   7.,   3.,   5.,\n",
       "          6.,   2.,   2.,   1.,   1.,   3.,   2.,   1.,   2.,   1.,   0.,\n",
       "          2.,   0.,   1.,   2.,   0.,   1.,   2.,   1.,   0.,   0.,   0.,\n",
       "          0.,   1.,   0.,   0.,   0.,   0.,   0.,   0.,   0.,   0.,   0.,\n",
       "          0.,   0.,   0.,   0.,   1.]),\n",
       " array([  0.,  20.,  40.,  60.,  80., 100., 120., 140., 160., 180., 200.,\n",
       "        220., 240., 260., 280., 300., 320., 340., 360., 380., 400., 420.,\n",
       "        440., 460., 480., 500., 520., 540., 560., 580., 600., 620., 640.,\n",
       "        660., 680., 700., 720., 740., 760., 780., 800., 820., 840., 860.,\n",
       "        880., 900., 920., 940., 960., 980.]),\n",
       " <BarContainer object of 49 artists>)"
      ]
     },
     "execution_count": 10,
     "metadata": {},
     "output_type": "execute_result"
    },
    {
     "data": {
      "image/png": "[encoded data removed]",
      "text/plain": [
       "<Figure size 640x480 with 1 Axes>"
      ]
     },
     "metadata": {},
     "output_type": "display_data"
    }
   ],
   "source": [
    "plt.hist(occurences, bins=np.arange(0, 1000, 20))"
   ]
  },
  {
   "cell_type": "code",
   "execution_count": 11,
   "id": "02d2955e",
   "metadata": {},
   "outputs": [
    {
     "name": "stdout",
     "output_type": "stream",
     "text": [
      "Amount of topics with occurences >= 50 : 156\n"
     ]
    }
   ],
   "source": [
    "cutoff = 50\n",
    "y = filter(lambda x: x >= cutoff, occurences)\n",
    "print(f\"Amount of topics with occurences >= {cutoff} : {len(list(y))}\")"
   ]
  },
  {
   "cell_type": "code",
   "execution_count": 12,
   "id": "60168131",
   "metadata": {},
   "outputs": [],
   "source": [
    "def convert_topics(topic):\n",
    "    x = topic.split(\"'\")\n",
    "    tags = []\n",
    "    for i, tag in enumerate(x):\n",
    "        if i % 2 != 0 and i != 0 and i != len(x) - 1:\n",
    "            tags.append(tag.lower())\n",
    "    return tags\n",
    "\n",
    "def correct_dataframe_topics_column(df, in_place=False):\n",
    "    if not in_place:\n",
    "        df = df.copy()\n",
    "    topics_listed_column = df['topics'].apply(convert_topics)\n",
    "    df['topics'] = topics_listed_column\n",
    "    return df"
   ]
  },
  {
   "cell_type": "code",
   "execution_count": 13,
   "id": "04e8173e",
   "metadata": {},
   "outputs": [],
   "source": [
    "\"\"\"\n",
    "Topics of focus:\n",
    "STEM - Science, Technology, Engineering, Math(Mathematics), Psychology, Physics, Biotech, AI, Cognitive Science\n",
    "Culture - Culture, Society, Community\n",
    "Business - Business, Economics\n",
    "Social Change - social change/activism\n",
    "History - History/Politics\n",
    "\"\"\"\n",
    "topic_to_group = defaultdict(lambda: 'not-relevant')\n",
    "\n",
    "# science = [\"science\", \"psychology\", \"biotech\",\"cognitive science\", 'health']\n",
    "# technology = [\"technology\", 'computers', 'software', 'visualizations']\n",
    "# engineering = [\"engineering\", \"ai\",]\n",
    "# math = [\"math\", \"mathematics\", \"physics\"]\n",
    "\n",
    "stem = [\"science\", \"technology\", \"engineering\", \"math\", \"mathematics\", \"psychology\", \"physics\", \"biotech\", \"ai\", \"cognitive science\", 'math', 'computers', 'science', 'software', 'technology', 'visualizations', 'health']\n",
    "culture = [\"culture\", \"society\", \"community\", 'culture', 'humor', 'visualizations', 'children', 'creativity', 'entertainment', 'media', 'education', 'parenting', 'teaching', 'collaboration', 'music', 'performance', 'activism', 'africa', 'inequality', 'politics']\n",
    "business = [\"business\", \"economics\",  'design', 'comedy', 'storytelling', 'entertainment', 'media', 'business', 'cities', 'demo', 'economics']\n",
    "activism = ['social change', 'activism',  'climate change', 'environment', 'global issues', 'sustainability', 'green', 'inequality', 'global development', 'pollution']\n",
    "history = ['history', 'politics',  'creativity', 'architecture', 'religion', 'storytelling']\n",
    "categories = [ ['stem'] + stem, ['culture'] + culture, ['business'] + business,\n",
    "              ['activism'] + activism, ['history'] + history]\n",
    "\n",
    "# categories = [ ['math'] + math, ['science'] + science, \n",
    "#               ['technology'] + technology, \n",
    "#               ['engineering'] + engineering, \n",
    "#               ['science'] + science,\n",
    "#               ['culture'] + culture, ['business'] + business,\n",
    "#               ['activism'] + activism, ['history'] + history]\n",
    "\n",
    "\n",
    "for category in categories:\n",
    "    cat = None\n",
    "    for i, topic in enumerate(category):\n",
    "        if i == 0:\n",
    "            cat = topic\n",
    "            continue\n",
    "        topic_to_group[topic] = cat"
   ]
  },
  {
   "cell_type": "code",
   "execution_count": 14,
   "id": "eb26c708",
   "metadata": {},
   "outputs": [],
   "source": [
    "def group_topics(topic_list):\n",
    "    grouped = defaultdict(int)\n",
    "    for topic in topic_list:\n",
    "        grouped[topic_to_group[topic]] += 1\n",
    "    vals_with_keys = sorted(\n",
    "        [(topic, grouped[topic]) for topic in grouped.keys()],\n",
    "        key=lambda tup: tup[1])[::-1]\n",
    "    for tup in vals_with_keys: \n",
    "        if tup[0] != 'not-relevant': \n",
    "            return tup[0]\n",
    "    return \"not-relevant\"\n",
    "\n",
    "def group_df_topics(df, in_place=False):\n",
    "    if not in_place:\n",
    "        df = df.copy()\n",
    "    df['grouped_topics'] = df['topics'].apply(group_topics)\n",
    "    return df"
   ]
  },
  {
   "cell_type": "code",
   "execution_count": 15,
   "id": "ee1b0401",
   "metadata": {},
   "outputs": [],
   "source": [
    "def count_unique_words(script): \n",
    "    unique_words = dict()\n",
    "    script_lst = script.split()\n",
    "    for word in script_lst: \n",
    "        if word in unique_words: \n",
    "            unique_words[word] += 1\n",
    "        else: \n",
    "            unique_words[word] = 1\n",
    "    return unique_words\n",
    "\n",
    "def add_words(df, in_place=False):\n",
    "    if in_place:\n",
    "        df = df.copy()\n",
    "    df[\"clean_scripts\"] = (\n",
    "    df[\"transcript\"]\n",
    "    .str.replace(r'\\(Music: [^)]+\\) ','', regex = True)\n",
    "    .str.replace(r' — ', ' ', regex = True)\n",
    "    .str.replace(r'[[.\"\\'!\\],:?;=+*&]', '', regex = True)\n",
    "    .str.lower())\n",
    "    df[\"words\"] = df[\"clean_scripts\"].apply(count_unique_words)\n",
    "    return df"
   ]
  },
  {
   "cell_type": "code",
   "execution_count": 16,
   "id": "b67ae7f9",
   "metadata": {},
   "outputs": [],
   "source": [
    "# NOT USING RIGHT NOW \n",
    "def one_hot_encode(df: pd.DataFrame, verbose=False, in_place=False):\n",
    "    \"\"\"\n",
    "    expects df to have a columns ['words'] which contains a dictionary for each entry,\n",
    "    this dictionary has all the unique words in this row's transcript as keys, and their values\n",
    "    correspond the amount of time that word appears in the transcript. This creates \n",
    "    \"\"\"\n",
    "    word_dicts = df['words'].to_numpy()\n",
    "    total_dict = defaultdict(int)\n",
    "    total_count = 0\n",
    "    for word_dict in word_dicts:\n",
    "        for word in word_dict.keys():\n",
    "            total_dict[word] += word_dict[word]\n",
    "            total_count += word_dict[word]\n",
    "    unique_count = len(list(total_dict.keys()))\n",
    "    if verbose: \n",
    "        print(\"Amount of unique words: {:,}\".format(unique_count), \n",
    "             \"\\nTotal word count: {:,}\".format(total_count))\n",
    "    \n",
    "    word_to_onehot_location = {}\n",
    "    for i, word in enumerate(list(total_dict.keys())):\n",
    "        word_to_onehot_location[word] = i\n",
    "        \n",
    "    new_col = []\n",
    "    for i, row in enumerate(word_dicts):\n",
    "        new_entry = np.zeros(unique_count, dtype=int)\n",
    "        for word in row:\n",
    "            new_entry[word_to_onehot_location[word]] = 1\n",
    "        new_col.append(new_entry)\n",
    "    if in_place:\n",
    "        new_df = df\n",
    "    else:\n",
    "        new_df = df.copy()\n",
    "    new_df['one-hot'] = new_col\n",
    "    return new_df\n",
    "\n",
    "def sentence_type(df, in_place=False):\n",
    "    \"\"\"\n",
    "    adds an array to each row\n",
    "    this array contains the frequency of each setence type\n",
    "    arr[0] = . | arr[1] = ? | arr[2] = !\n",
    "    each entry is total occurences / total punctuation count\n",
    "    \"\"\"\n",
    "    new_col = []\n",
    "    for transcript in df['transcript']:\n",
    "        new_entry = np.zeros(3)\n",
    "        p_count, q_count, e_count = transcript.count('.'), transcript.count('?'), transcript.count('!')\n",
    "        total_sentences = p_count + q_count + e_count + 1\n",
    "        new_entry[0] = (p_count + 1)/ total_sentences\n",
    "        new_entry[1] = (q_count + 1)/ total_sentences\n",
    "        new_entry[2] = (e_count + 1)/ total_sentences\n",
    "        new_col.append(new_entry)\n",
    "    if in_place:\n",
    "        new_df = df\n",
    "    else:\n",
    "        new_df = df.copy()\n",
    "    new_df['sentence-type'] = new_col\n",
    "    return new_df\n"
   ]
  },
  {
   "cell_type": "code",
   "execution_count": 17,
   "id": "f3263e6c",
   "metadata": {},
   "outputs": [],
   "source": [
    "## TFIDF Calculation\n",
    "\n",
    "\n",
    "# NOT USING RIGHT NOW \n",
    "def tfidf_value(transcript):\n",
    "    tfIdfVectorizer = TfidfVectorizer(use_idf=True)\n",
    "    tfIdf = tfIdfVectorizer.fit_transform([transcript])\n",
    "    #list_of_words_tfidf = tfIdfVectorizer.get_feature_names_out()\n",
    "    tfidf_value = tfIdf.toarray()[0]\n",
    "    return tfidf_value\n",
    "\n",
    "def tfidf_words(transcript):\n",
    "    tfIdfVectorizer = TfidfVectorizer(use_idf=True)\n",
    "    tfIdf = tfIdfVectorizer.fit_transform([transcript])\n",
    "    try:\n",
    "        list_of_words_tfidf = tfIdfVectorizer.get_feature_names_out()\n",
    "    except Error:\n",
    "        list_of_words_tfidf = tfIdfVectorizer.get_feature_names()\n",
    "    tfidf_words = list_of_words_tfidf\n",
    "    return tfidf_words\n",
    "\n",
    "def tfidf_dict(transcript):\n",
    "    tfIdfVectorizer = TfidfVectorizer(use_idf=True)\n",
    "    tfIdf = tfIdfVectorizer.fit_transform([transcript])\n",
    "    try:\n",
    "        list_of_words_tfidf = tfIdfVectorizer.get_feature_names_out()\n",
    "    except Error:\n",
    "        list_of_words_tfidf = tfIdfVectorizer.get_feature_names()\n",
    "    tfidf_value = tfIdf.toarray()[0]\n",
    "    tfidf_dict = dict(zip(list_of_words_tfidf,tfidf_value))\n",
    "    return tfidf_dict\n",
    "\n",
    "def add_tfidf(df: pd.DataFrame, in_place=False):\n",
    "    if in_place:\n",
    "        df = df.copy()\n",
    "    df['tfidf'] = df['transcript'].apply(tfidf_value)\n",
    "    df['tfidf_word'] = df['transcript'].apply(tfidf_words)\n",
    "    df['tfidf_dict'] = df['transcript'].apply(tfidf_dict)\n",
    "    return df"
   ]
  },
  {
   "cell_type": "code",
   "execution_count": 18,
   "id": "e914aa41",
   "metadata": {},
   "outputs": [],
   "source": [
    "# NOT USING RIGHT NOW \n",
    "def get_feature_engineered():\n",
    "    data = raw.copy()\n",
    "    data = correct_dataframe_topics_column(data, in_place=True)\n",
    "    data = group_df_topics(data, in_place=True)\n",
    "    data = add_words(data, in_place=True)\n",
    "    data = one_hot_encode(data, in_place=True)\n",
    "    data = sentence_type(data, in_place=True)\n",
    "    data = add_tfidf(data, in_place=True)\n",
    "    data = data.drop(columns = [\n",
    "    \"talk_id\", \"speaker_1\", \"recorded_date\", \n",
    "    \"event\", \"duration\", \"url\", \"comments\", \"about_speakers\", \n",
    "    \"available_lang\", \"all_speakers\", \"native_lang\"])\n",
    "    return data"
   ]
  },
  {
   "cell_type": "code",
   "execution_count": 19,
   "id": "fd65e097",
   "metadata": {},
   "outputs": [],
   "source": [
    "def get_cleaned_data():\n",
    "    data = raw.copy()\n",
    "    data = correct_dataframe_topics_column(data, in_place=True)\n",
    "    data = group_df_topics(data, in_place=True)\n",
    "    data = add_words(data, in_place=True)\n",
    "    data = sentence_type(data, in_place=True)\n",
    "    data = data.drop(columns = [\n",
    "    \"talk_id\", \"speaker_1\", \"recorded_date\", \"published_date\", \n",
    "    \"event\", \"url\", \"about_speakers\", \n",
    "    \"available_lang\", \"all_speakers\", \"native_lang\", \"occupations\", \"related_talks\", \"description\", \"sentence-type\"])\n",
    "    return data"
   ]
  },
  {
   "cell_type": "code",
   "execution_count": 20,
   "id": "83abe3fa",
   "metadata": {
    "scrolled": true
   },
   "outputs": [
    {
     "name": "stderr",
     "output_type": "stream",
     "text": [
      "/Users/sebastian/miniforge3/envs/ted-talks/lib/python3.11/site-packages/pandas/core/strings/object_array.py:158: FutureWarning: Possible nested set at position 1\n",
      "  pat = re.compile(pat, flags=flags)\n"
     ]
    }
   ],
   "source": [
    "data_eda = get_cleaned_data()"
   ]
  },
  {
   "cell_type": "code",
   "execution_count": 21,
   "id": "00f6d54a",
   "metadata": {
    "scrolled": true
   },
   "outputs": [
    {
     "data": {
      "text/plain": [
       "stem            1445\n",
       "culture          946\n",
       "activism         662\n",
       "business         445\n",
       "history          356\n",
       "not-relevant     151\n",
       "Name: grouped_topics, dtype: int64"
      ]
     },
     "execution_count": 21,
     "metadata": {},
     "output_type": "execute_result"
    }
   ],
   "source": [
    "data_eda[\"grouped_topics\"].value_counts()"
   ]
  },
  {
   "cell_type": "code",
   "execution_count": 22,
   "id": "efdac463",
   "metadata": {},
   "outputs": [
    {
     "name": "stdout",
     "output_type": "stream",
     "text": [
      "<class 'pandas.core.frame.DataFrame'>\n",
      "RangeIndex: 4005 entries, 0 to 4004\n",
      "Data columns (total 9 columns):\n",
      " #   Column          Non-Null Count  Dtype  \n",
      "---  ------          --------------  -----  \n",
      " 0   title           4005 non-null   object \n",
      " 1   views           4005 non-null   int64  \n",
      " 2   comments        3350 non-null   float64\n",
      " 3   duration        4005 non-null   int64  \n",
      " 4   topics          4005 non-null   object \n",
      " 5   transcript      4005 non-null   object \n",
      " 6   grouped_topics  4005 non-null   object \n",
      " 7   clean_scripts   4005 non-null   object \n",
      " 8   words           4005 non-null   object \n",
      "dtypes: float64(1), int64(2), object(6)\n",
      "memory usage: 281.7+ KB\n"
     ]
    }
   ],
   "source": [
    "data_eda.info()"
   ]
  },
  {
   "attachments": {},
   "cell_type": "markdown",
   "id": "1987f90e",
   "metadata": {},
   "source": [
    "tfidf --> clean_script \n",
    "ohe --> all of the words \n",
    "ohe --> grouped topics \n",
    "standardize --> duration \n",
    "standardize --> views\n",
    "standardize --> comments"
   ]
  },
  {
   "cell_type": "code",
   "execution_count": 23,
   "id": "06b2e4e8",
   "metadata": {},
   "outputs": [],
   "source": [
    "df_count = pd.Series(keywords).to_frame().reset_index().rename(columns = {\"index\": \"category\", 0:\"count\"})\n",
    "\n",
    "df_count = df_count[df_count[\"count\"] >= 50]\n",
    "total_count = df_count.shape[0]\n",
    "\n",
    "lst = []\n",
    "for i in range(0, total_count, 39):\n",
    "    df_cut = df_count.iloc[i: i+ 39]\n",
    "    lst.append(df_cut)"
   ]
  },
  {
   "cell_type": "code",
   "execution_count": 24,
   "id": "808d4fae",
   "metadata": {
    "scrolled": true
   },
   "outputs": [],
   "source": [
    "# np.array(data_eda[\"clean_scripts\"])"
   ]
  },
  {
   "cell_type": "code",
   "execution_count": 25,
   "id": "a8ff919a",
   "metadata": {},
   "outputs": [],
   "source": [
    "from sklearn.pipeline import make_pipeline, FeatureUnion\n",
    "from sklearn.naive_bayes import GaussianNB\n",
    "from sklearn.svm import LinearSVC\n",
    "# from sklearn.cluster import KMeans\n",
    "from sklearn.model_selection import GridSearchCV\n"
   ]
  },
  {
   "cell_type": "code",
   "execution_count": 26,
   "id": "9762b0c0",
   "metadata": {
    "scrolled": false
   },
   "outputs": [],
   "source": [
    "# X = data_eda.fillna(0)\n",
    "# y = data_eda[\"grouped_topics\"]\n",
    "\n",
    "# X_train, X_test, y_train, y_test = train_test_split(X, y, test_size = 0.20) \n",
    "\n",
    "# preproc = ColumnTransformer(\n",
    "#     transformers = [\n",
    "#         (\"tfidf\", TfidfVectorizer(stop_words = \"english\"), \"clean_scripts\"), # only need to be taken in a series\n",
    "# #         ('std_views', StandardScaler(), [\"views\"]), \n",
    "# #         ('std_comments', StandardScaler(), [\"comments\"])\n",
    "#     ],\n",
    "#     remainder = \"drop\"\n",
    "# )\n",
    "\n",
    "# lvc_pipeline = Pipeline([\n",
    "#     ('preprocessor', preproc),\n",
    "#     ('classifier', LinearSVC(C=3))\n",
    "# ])\n",
    "\n",
    "# pl_decision_tree = Pipeline([ \n",
    "#     ('naive_bayes', nb_pipeline),\n",
    "#     (\"dec_tree\", DecisionTreeClassifier(max_depth = 3))\n",
    "# ])\n",
    "\n",
    "# pl_kmeans = Pipeline([\n",
    "#     ('preprocessor', preproc),\n",
    "#     ('classifier', KMeans(n_init=10))\n",
    "    \n",
    "# ])\n",
    "\n",
    "# lvc_pipeline.fit(X_train, y_train)\n",
    "# predict = lvc_pipeline.predict(X_train)\n",
    "\n",
    "# # pl_kmeans.fit(X_train, y_train)\n",
    "# # predict = pl_kmeans.predict(X_train)\n"
   ]
  },
  {
   "cell_type": "code",
   "execution_count": 27,
   "id": "8693886c",
   "metadata": {},
   "outputs": [],
   "source": [
    "X = data_eda\n",
    "y = data_eda[\"grouped_topics\"]\n",
    "\n",
    "X_train, X_test, y_train, y_test = train_test_split(X, y, test_size = 0.25) \n",
    "\n",
    "preproc = ColumnTransformer(\n",
    "    transformers = [\n",
    "        (\"tfidf\", TfidfVectorizer(stop_words = \"english\"), \"clean_scripts\"), # only need to be taken in a series\n",
    "#         ('std_views', StandardScaler(), [\"views\"]), \n",
    "#         ('std_comments', StandardScaler(), [\"comments\"])\n",
    "    ],\n",
    "    remainder = \"drop\"\n",
    ")\n",
    "\n",
    "lvc_pipeline = Pipeline([\n",
    "    ('preprocessor', preproc),\n",
    "    ('classifier', LinearSVC(C=1, tol = 1e-5, loss=\"hinge\"))\n",
    "#     ('classifier', LinearSVC(C=1, penalty = 'l1', dual = False, multi_class = 'crammer_singer'))\n",
    "\n",
    "])\n",
    "\n",
    "lvc_pipeline.fit(X_train, y_train)\n",
    "predict = lvc_pipeline.predict(X_train)\n",
    "\n",
    "\n",
    "# hyperparameters = {\n",
    "#     'classifier__C' : np.arange(1, 7, 1),\n",
    "#     'classifier__max_iter' : np.arange(1000, 10000, 1000), \n",
    "\n",
    "# }\n",
    "\n",
    "# pl_final = Pipeline([\n",
    "#     ('grid_search', GridSearchCV(lvc_pipeline, param_grid = hyperparameters)\n",
    "#     )\n",
    "# ])\n",
    "\n",
    "# pl_final.fit(X_train, y_train)\n",
    "\n",
    "\n",
    "# pl_final.named_steps['grid_search'].best_params_\n"
   ]
  },
  {
   "cell_type": "code",
   "execution_count": 28,
   "id": "60da38b1",
   "metadata": {},
   "outputs": [],
   "source": [
    "# bar chart by topic - see what is right and what isn't right and create a visualization based on that "
   ]
  },
  {
   "cell_type": "code",
   "execution_count": 29,
   "id": "f1f9d39d",
   "metadata": {
    "scrolled": true
   },
   "outputs": [
    {
     "data": {
      "text/plain": [
       "0.9647019647019647"
      ]
     },
     "execution_count": 29,
     "metadata": {},
     "output_type": "execute_result"
    }
   ],
   "source": [
    "accuracy_score(y_train, predict)"
   ]
  },
  {
   "cell_type": "code",
   "execution_count": 42,
   "id": "bbc3828a",
   "metadata": {},
   "outputs": [],
   "source": [
    "predict_test = lvc_pipeline.predict(X_test)\n",
    "accuracy_score(y_test, predict_test)\n",
    "\n",
    "\n",
    "def test_str(s, pipeline):\n",
    "    str_arr = pd.Series(s).to_frame()\n",
    "    str_arr = str_arr.rename(columns = {0:\"clean_scripts\"})\n",
    "    return pipeline.predict(str_arr)\n",
    "\n",
    "file_name = \"model_scv.sav\"\n",
    "pickle.dump(lvc_pipeline, open(file_name, 'wb'))"
   ]
  },
  {
   "cell_type": "code",
   "execution_count": 31,
   "id": "e441bc81",
   "metadata": {},
   "outputs": [
    {
     "data": {
      "text/plain": [
       "array(['history'], dtype=object)"
      ]
     },
     "execution_count": 31,
     "metadata": {},
     "output_type": "execute_result"
    }
   ],
   "source": [
    "string = \"Cyrus, king of the Persians, has entered Babylon without a fight -- the great empire of Babylon, which ran from central southern Iraq to the Mediterranean, falls to Cyrus. And Cyrus makes a declaration. And that is what this cylinder is, the declaration made by the ruler guided by God who had toppled the Iraqi despot and was going to bring freedom to the people. In ringing Babylonian -- it was written in Babylonian -- he says, \\\"I am Cyrus, king of all the universe, the great king, the powerful king, king of Babylon, king of the four quarters of the world.\\\" They\\'re not shy of hyperbole as you can see. This is probably the first real press release by a victorious army that we\\'ve got. And it\\'s written, as we\\'ll see in due course, by very skilled P.R. consultants. So the hyperbole is not actually surprising.\"\n",
    "str_arr = pd.Series(string).to_frame()\n",
    "str_arr = str_arr.rename(columns = {0:\"clean_scripts\"})\n",
    "lvc_pipeline.predict(str_arr)"
   ]
  },
  {
   "cell_type": "code",
   "execution_count": 32,
   "id": "32938bdf",
   "metadata": {
    "scrolled": true
   },
   "outputs": [
    {
     "data": {
      "text/plain": [
       "stem            0.480040\n",
       "culture         0.239521\n",
       "activism        0.168663\n",
       "business        0.060878\n",
       "history         0.049900\n",
       "not-relevant    0.000998\n",
       "dtype: float64"
      ]
     },
     "execution_count": 32,
     "metadata": {},
     "output_type": "execute_result"
    }
   ],
   "source": [
    "pd.DataFrame(predict_test).value_counts()/len(predict_test)"
   ]
  },
  {
   "cell_type": "code",
   "execution_count": 33,
   "id": "87de74f2",
   "metadata": {},
   "outputs": [
    {
     "data": {
      "text/plain": [
       "grouped_topics\n",
       "stem              0.394212\n",
       "culture           0.217565\n",
       "activism          0.164671\n",
       "business          0.111776\n",
       "history           0.078842\n",
       "not-relevant      0.032934\n",
       "dtype: float64"
      ]
     },
     "execution_count": 33,
     "metadata": {},
     "output_type": "execute_result"
    }
   ],
   "source": [
    "pd.DataFrame(y_test).value_counts()/len(y_test)"
   ]
  },
  {
   "cell_type": "code",
   "execution_count": 34,
   "id": "6a9e923c",
   "metadata": {
    "scrolled": true
   },
   "outputs": [
    {
     "data": {
      "text/plain": [
       "stem            0.360799\n",
       "culture         0.236205\n",
       "activism        0.165293\n",
       "business        0.111111\n",
       "history         0.088889\n",
       "not-relevant    0.037703\n",
       "Name: grouped_topics, dtype: float64"
      ]
     },
     "execution_count": 34,
     "metadata": {},
     "output_type": "execute_result"
    }
   ],
   "source": [
    "data_eda[\"grouped_topics\"].value_counts()/data_eda.shape[0]"
   ]
  },
  {
   "cell_type": "code",
   "execution_count": 35,
   "id": "d8309830",
   "metadata": {},
   "outputs": [],
   "source": [
    "# data_eda.plot.scatter(x='views', y='duration', c='grouped_topics')"
   ]
  },
  {
   "cell_type": "code",
   "execution_count": 36,
   "id": "ae81c1a2",
   "metadata": {},
   "outputs": [
    {
     "data": {
      "text/plain": [
       "0.8429463171036204"
      ]
     },
     "execution_count": 36,
     "metadata": {},
     "output_type": "execute_result"
    }
   ],
   "source": [
    "3376/len(data_eda['grouped_topics'])"
   ]
  },
  {
   "cell_type": "code",
   "execution_count": 37,
   "id": "d97f692e",
   "metadata": {},
   "outputs": [],
   "source": [
    "## start of first viz"
   ]
  },
  {
   "cell_type": "code",
   "execution_count": 38,
   "id": "68f7c603",
   "metadata": {
    "scrolled": false
   },
   "outputs": [],
   "source": [
    "# featured_data = get_feature_engineered()\n",
    "featured_data = data_eda.copy()"
   ]
  },
  {
   "cell_type": "code",
   "execution_count": 39,
   "id": "bd68c953",
   "metadata": {},
   "outputs": [
    {
     "data": {
      "text/plain": [
       "grouped_topics\n",
       "history         1211816.0\n",
       "activism        1284481.0\n",
       "business        1320195.0\n",
       "not-relevant    1412008.0\n",
       "culture         1428382.0\n",
       "stem            1446216.0\n",
       "Name: views, dtype: float64"
      ]
     },
     "execution_count": 39,
     "metadata": {},
     "output_type": "execute_result"
    }
   ],
   "source": [
    "grouped_df = featured_data.groupby('grouped_topics')['views'].median().sort_values()\n",
    "grouped_df"
   ]
  },
  {
   "cell_type": "code",
   "execution_count": 40,
   "id": "680d2230",
   "metadata": {},
   "outputs": [
    {
     "data": {
      "image/png": "[encoded data removed]",
      "text/plain": [
       "<Figure size 640x480 with 1 Axes>"
      ]
     },
     "metadata": {},
     "output_type": "display_data"
    }
   ],
   "source": [
    "plot = grouped_df.plot.bar(x = 'grouped_topics', y = 'views',color = ['#e4572e','#29335c','#F3A712','#A8C686','black','#669BBC'])\n",
    "plot.set_xlabel('Topic', fontsize = 14,fontweight = 'bold')\n",
    "plot.set_ylabel('Median Views (in the millions)',fontsize = 12,fontweight = 'bold')\n",
    "plot.set_ylim(1000000,1500000)\n",
    "plot.set_title('Topic Vs Median Views',fontsize = 14)\n",
    "plt.show()"
   ]
  },
  {
   "cell_type": "code",
   "execution_count": null,
   "id": "2779e595",
   "metadata": {},
   "outputs": [],
   "source": [
    "## start of second viz \n",
    "\n",
    "## maybe do publish date vs the topic most talked about\n",
    "\n",
    "## might be bit hard to do. "
   ]
  },
  {
   "cell_type": "code",
   "execution_count": null,
   "id": "876d90a3",
   "metadata": {},
   "outputs": [],
   "source": [
    "featured_data['words'][0].values()"
   ]
  },
  {
   "cell_type": "code",
   "execution_count": null,
   "id": "0cccb22b",
   "metadata": {},
   "outputs": [],
   "source": [
    "date_group_df = featured_data.groupby('published_date')['views'].median()\n",
    "date_group_df"
   ]
  },
  {
   "cell_type": "code",
   "execution_count": null,
   "id": "99eeda2c",
   "metadata": {},
   "outputs": [],
   "source": []
  }
 ],
 "metadata": {
  "kernelspec": {
   "display_name": "Python 3 (ipykernel)",
   "language": "python",
   "name": "python3"
  },
  "language_info": {
   "codemirror_mode": {
    "name": "ipython",
    "version": 3
   },
   "file_extension": ".py",
   "mimetype": "text/x-python",
   "name": "python",
   "nbconvert_exporter": "python",
   "pygments_lexer": "ipython3",
   "version": "3.11.0"
  }
 },
 "nbformat": 4,
 "nbformat_minor": 5
}
