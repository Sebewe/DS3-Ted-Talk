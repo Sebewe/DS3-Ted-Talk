{
 "cells": [
  {
   "cell_type": "code",
   "execution_count": 1,
   "id": "d0aa1577",
   "metadata": {
    "scrolled": false
   },
   "outputs": [
    {
     "name": "stdout",
     "output_type": "stream",
     "text": [
      "Requirement already satisfied: spacy in /Users/gquach/opt/anaconda3/lib/python3.8/site-packages (3.5.1)\n",
      "Requirement already satisfied: thinc<8.2.0,>=8.1.8 in /Users/gquach/opt/anaconda3/lib/python3.8/site-packages (from spacy) (8.1.9)\n",
      "Requirement already satisfied: requests<3.0.0,>=2.13.0 in /Users/gquach/opt/anaconda3/lib/python3.8/site-packages (from spacy) (2.26.0)\n",
      "Requirement already satisfied: spacy-loggers<2.0.0,>=1.0.0 in /Users/gquach/opt/anaconda3/lib/python3.8/site-packages (from spacy) (1.0.4)\n",
      "Requirement already satisfied: catalogue<2.1.0,>=2.0.6 in /Users/gquach/opt/anaconda3/lib/python3.8/site-packages (from spacy) (2.0.8)\n",
      "Requirement already satisfied: pathy>=0.10.0 in /Users/gquach/opt/anaconda3/lib/python3.8/site-packages (from spacy) (0.10.1)\n",
      "Requirement already satisfied: smart-open<7.0.0,>=5.2.1 in /Users/gquach/opt/anaconda3/lib/python3.8/site-packages (from spacy) (6.3.0)\n",
      "Requirement already satisfied: jinja2 in /Users/gquach/opt/anaconda3/lib/python3.8/site-packages (from spacy) (2.11.3)\n",
      "Requirement already satisfied: numpy>=1.15.0 in /Users/gquach/opt/anaconda3/lib/python3.8/site-packages (from spacy) (1.21.2)\n",
      "Requirement already satisfied: murmurhash<1.1.0,>=0.28.0 in /Users/gquach/opt/anaconda3/lib/python3.8/site-packages (from spacy) (1.0.9)\n",
      "Requirement already satisfied: tqdm<5.0.0,>=4.38.0 in /Users/gquach/opt/anaconda3/lib/python3.8/site-packages (from spacy) (4.62.3)\n",
      "Requirement already satisfied: preshed<3.1.0,>=3.0.2 in /Users/gquach/opt/anaconda3/lib/python3.8/site-packages (from spacy) (3.0.8)\n",
      "Requirement already satisfied: packaging>=20.0 in /Users/gquach/opt/anaconda3/lib/python3.8/site-packages (from spacy) (20.9)\n",
      "Requirement already satisfied: typer<0.8.0,>=0.3.0 in /Users/gquach/opt/anaconda3/lib/python3.8/site-packages (from spacy) (0.7.0)\n",
      "Requirement already satisfied: wasabi<1.2.0,>=0.9.1 in /Users/gquach/opt/anaconda3/lib/python3.8/site-packages (from spacy) (1.1.1)\n",
      "Requirement already satisfied: langcodes<4.0.0,>=3.2.0 in /Users/gquach/opt/anaconda3/lib/python3.8/site-packages (from spacy) (3.3.0)\n",
      "Requirement already satisfied: cymem<2.1.0,>=2.0.2 in /Users/gquach/opt/anaconda3/lib/python3.8/site-packages (from spacy) (2.0.7)\n",
      "Requirement already satisfied: srsly<3.0.0,>=2.4.3 in /Users/gquach/opt/anaconda3/lib/python3.8/site-packages (from spacy) (2.4.6)\n",
      "Requirement already satisfied: setuptools in /Users/gquach/opt/anaconda3/lib/python3.8/site-packages (from spacy) (52.0.0.post20210125)\n",
      "Requirement already satisfied: spacy-legacy<3.1.0,>=3.0.11 in /Users/gquach/opt/anaconda3/lib/python3.8/site-packages (from spacy) (3.0.12)\n",
      "Requirement already satisfied: pydantic!=1.8,!=1.8.1,<1.11.0,>=1.7.4 in /Users/gquach/opt/anaconda3/lib/python3.8/site-packages (from spacy) (1.8.2)\n",
      "Requirement already satisfied: pyparsing>=2.0.2 in /Users/gquach/opt/anaconda3/lib/python3.8/site-packages (from packaging>=20.0->spacy) (2.4.7)\n",
      "Requirement already satisfied: typing-extensions>=3.7.4.3 in /Users/gquach/opt/anaconda3/lib/python3.8/site-packages (from pydantic!=1.8,!=1.8.1,<1.11.0,>=1.7.4->spacy) (4.4.0)\n",
      "Requirement already satisfied: certifi>=2017.4.17 in /Users/gquach/.local/lib/python3.8/site-packages (from requests<3.0.0,>=2.13.0->spacy) (2022.12.7)\n",
      "Requirement already satisfied: idna<4,>=2.5 in /Users/gquach/opt/anaconda3/lib/python3.8/site-packages (from requests<3.0.0,>=2.13.0->spacy) (2.10)\n",
      "Requirement already satisfied: urllib3<1.27,>=1.21.1 in /Users/gquach/opt/anaconda3/lib/python3.8/site-packages (from requests<3.0.0,>=2.13.0->spacy) (1.26.7)\n",
      "Requirement already satisfied: charset-normalizer~=2.0.0 in /Users/gquach/opt/anaconda3/lib/python3.8/site-packages (from requests<3.0.0,>=2.13.0->spacy) (2.0.12)\n",
      "Requirement already satisfied: confection<1.0.0,>=0.0.1 in /Users/gquach/opt/anaconda3/lib/python3.8/site-packages (from thinc<8.2.0,>=8.1.8->spacy) (0.0.4)\n",
      "Requirement already satisfied: blis<0.8.0,>=0.7.8 in /Users/gquach/opt/anaconda3/lib/python3.8/site-packages (from thinc<8.2.0,>=8.1.8->spacy) (0.7.9)\n",
      "Requirement already satisfied: click<9.0.0,>=7.1.1 in /Users/gquach/opt/anaconda3/lib/python3.8/site-packages (from typer<0.8.0,>=0.3.0->spacy) (7.1.2)\n",
      "Requirement already satisfied: MarkupSafe>=0.23 in /Users/gquach/opt/anaconda3/lib/python3.8/site-packages (from jinja2->spacy) (1.1.1)\n",
      "Collecting en-core-web-sm==3.5.0\n",
      "  Using cached https://github.com/explosion/spacy-models/releases/download/en_core_web_sm-3.5.0/en_core_web_sm-3.5.0-py3-none-any.whl (12.8 MB)\n",
      "Requirement already satisfied: spacy<3.6.0,>=3.5.0 in /Users/gquach/opt/anaconda3/lib/python3.8/site-packages (from en-core-web-sm==3.5.0) (3.5.1)\n",
      "Requirement already satisfied: catalogue<2.1.0,>=2.0.6 in /Users/gquach/opt/anaconda3/lib/python3.8/site-packages (from spacy<3.6.0,>=3.5.0->en-core-web-sm==3.5.0) (2.0.8)\n",
      "Requirement already satisfied: cymem<2.1.0,>=2.0.2 in /Users/gquach/opt/anaconda3/lib/python3.8/site-packages (from spacy<3.6.0,>=3.5.0->en-core-web-sm==3.5.0) (2.0.7)\n",
      "Requirement already satisfied: smart-open<7.0.0,>=5.2.1 in /Users/gquach/opt/anaconda3/lib/python3.8/site-packages (from spacy<3.6.0,>=3.5.0->en-core-web-sm==3.5.0) (6.3.0)\n",
      "Requirement already satisfied: pydantic!=1.8,!=1.8.1,<1.11.0,>=1.7.4 in /Users/gquach/opt/anaconda3/lib/python3.8/site-packages (from spacy<3.6.0,>=3.5.0->en-core-web-sm==3.5.0) (1.8.2)\n",
      "Requirement already satisfied: langcodes<4.0.0,>=3.2.0 in /Users/gquach/opt/anaconda3/lib/python3.8/site-packages (from spacy<3.6.0,>=3.5.0->en-core-web-sm==3.5.0) (3.3.0)\n",
      "Requirement already satisfied: wasabi<1.2.0,>=0.9.1 in /Users/gquach/opt/anaconda3/lib/python3.8/site-packages (from spacy<3.6.0,>=3.5.0->en-core-web-sm==3.5.0) (1.1.1)\n",
      "Requirement already satisfied: tqdm<5.0.0,>=4.38.0 in /Users/gquach/opt/anaconda3/lib/python3.8/site-packages (from spacy<3.6.0,>=3.5.0->en-core-web-sm==3.5.0) (4.62.3)\n",
      "Requirement already satisfied: murmurhash<1.1.0,>=0.28.0 in /Users/gquach/opt/anaconda3/lib/python3.8/site-packages (from spacy<3.6.0,>=3.5.0->en-core-web-sm==3.5.0) (1.0.9)\n",
      "Requirement already satisfied: spacy-loggers<2.0.0,>=1.0.0 in /Users/gquach/opt/anaconda3/lib/python3.8/site-packages (from spacy<3.6.0,>=3.5.0->en-core-web-sm==3.5.0) (1.0.4)\n",
      "Requirement already satisfied: typer<0.8.0,>=0.3.0 in /Users/gquach/opt/anaconda3/lib/python3.8/site-packages (from spacy<3.6.0,>=3.5.0->en-core-web-sm==3.5.0) (0.7.0)\n",
      "Requirement already satisfied: setuptools in /Users/gquach/opt/anaconda3/lib/python3.8/site-packages (from spacy<3.6.0,>=3.5.0->en-core-web-sm==3.5.0) (52.0.0.post20210125)\n",
      "Requirement already satisfied: packaging>=20.0 in /Users/gquach/opt/anaconda3/lib/python3.8/site-packages (from spacy<3.6.0,>=3.5.0->en-core-web-sm==3.5.0) (20.9)\n",
      "Requirement already satisfied: jinja2 in /Users/gquach/opt/anaconda3/lib/python3.8/site-packages (from spacy<3.6.0,>=3.5.0->en-core-web-sm==3.5.0) (2.11.3)\n",
      "Requirement already satisfied: pathy>=0.10.0 in /Users/gquach/opt/anaconda3/lib/python3.8/site-packages (from spacy<3.6.0,>=3.5.0->en-core-web-sm==3.5.0) (0.10.1)\n",
      "Requirement already satisfied: preshed<3.1.0,>=3.0.2 in /Users/gquach/opt/anaconda3/lib/python3.8/site-packages (from spacy<3.6.0,>=3.5.0->en-core-web-sm==3.5.0) (3.0.8)\n",
      "Requirement already satisfied: thinc<8.2.0,>=8.1.8 in /Users/gquach/opt/anaconda3/lib/python3.8/site-packages (from spacy<3.6.0,>=3.5.0->en-core-web-sm==3.5.0) (8.1.9)\n",
      "Requirement already satisfied: spacy-legacy<3.1.0,>=3.0.11 in /Users/gquach/opt/anaconda3/lib/python3.8/site-packages (from spacy<3.6.0,>=3.5.0->en-core-web-sm==3.5.0) (3.0.12)\n",
      "Requirement already satisfied: numpy>=1.15.0 in /Users/gquach/opt/anaconda3/lib/python3.8/site-packages (from spacy<3.6.0,>=3.5.0->en-core-web-sm==3.5.0) (1.21.2)\n",
      "Requirement already satisfied: srsly<3.0.0,>=2.4.3 in /Users/gquach/opt/anaconda3/lib/python3.8/site-packages (from spacy<3.6.0,>=3.5.0->en-core-web-sm==3.5.0) (2.4.6)\n",
      "Requirement already satisfied: requests<3.0.0,>=2.13.0 in /Users/gquach/opt/anaconda3/lib/python3.8/site-packages (from spacy<3.6.0,>=3.5.0->en-core-web-sm==3.5.0) (2.26.0)\n",
      "Requirement already satisfied: pyparsing>=2.0.2 in /Users/gquach/opt/anaconda3/lib/python3.8/site-packages (from packaging>=20.0->spacy<3.6.0,>=3.5.0->en-core-web-sm==3.5.0) (2.4.7)\n",
      "Requirement already satisfied: typing-extensions>=3.7.4.3 in /Users/gquach/opt/anaconda3/lib/python3.8/site-packages (from pydantic!=1.8,!=1.8.1,<1.11.0,>=1.7.4->spacy<3.6.0,>=3.5.0->en-core-web-sm==3.5.0) (4.4.0)\n"
     ]
    },
    {
     "name": "stdout",
     "output_type": "stream",
     "text": [
      "Requirement already satisfied: idna<4,>=2.5 in /Users/gquach/opt/anaconda3/lib/python3.8/site-packages (from requests<3.0.0,>=2.13.0->spacy<3.6.0,>=3.5.0->en-core-web-sm==3.5.0) (2.10)\n",
      "Requirement already satisfied: certifi>=2017.4.17 in /Users/gquach/.local/lib/python3.8/site-packages (from requests<3.0.0,>=2.13.0->spacy<3.6.0,>=3.5.0->en-core-web-sm==3.5.0) (2022.12.7)\n",
      "Requirement already satisfied: charset-normalizer~=2.0.0 in /Users/gquach/opt/anaconda3/lib/python3.8/site-packages (from requests<3.0.0,>=2.13.0->spacy<3.6.0,>=3.5.0->en-core-web-sm==3.5.0) (2.0.12)\n",
      "Requirement already satisfied: urllib3<1.27,>=1.21.1 in /Users/gquach/opt/anaconda3/lib/python3.8/site-packages (from requests<3.0.0,>=2.13.0->spacy<3.6.0,>=3.5.0->en-core-web-sm==3.5.0) (1.26.7)\n",
      "Requirement already satisfied: confection<1.0.0,>=0.0.1 in /Users/gquach/opt/anaconda3/lib/python3.8/site-packages (from thinc<8.2.0,>=8.1.8->spacy<3.6.0,>=3.5.0->en-core-web-sm==3.5.0) (0.0.4)\n",
      "Requirement already satisfied: blis<0.8.0,>=0.7.8 in /Users/gquach/opt/anaconda3/lib/python3.8/site-packages (from thinc<8.2.0,>=8.1.8->spacy<3.6.0,>=3.5.0->en-core-web-sm==3.5.0) (0.7.9)\n",
      "Requirement already satisfied: click<9.0.0,>=7.1.1 in /Users/gquach/opt/anaconda3/lib/python3.8/site-packages (from typer<0.8.0,>=0.3.0->spacy<3.6.0,>=3.5.0->en-core-web-sm==3.5.0) (7.1.2)\n",
      "Requirement already satisfied: MarkupSafe>=0.23 in /Users/gquach/opt/anaconda3/lib/python3.8/site-packages (from jinja2->spacy<3.6.0,>=3.5.0->en-core-web-sm==3.5.0) (1.1.1)\n",
      "\u001b[38;5;2m✔ Download and installation successful\u001b[0m\n",
      "You can now load the package via spacy.load('en_core_web_sm')\n",
      "Requirement already satisfied: scikit-learn in /Users/gquach/opt/anaconda3/lib/python3.8/site-packages (1.2.2)\n",
      "Requirement already satisfied: threadpoolctl>=2.0.0 in /Users/gquach/opt/anaconda3/lib/python3.8/site-packages (from scikit-learn) (2.1.0)\n",
      "Requirement already satisfied: numpy>=1.17.3 in /Users/gquach/opt/anaconda3/lib/python3.8/site-packages (from scikit-learn) (1.21.2)\n",
      "Requirement already satisfied: joblib>=1.1.1 in /Users/gquach/opt/anaconda3/lib/python3.8/site-packages (from scikit-learn) (1.2.0)\n",
      "Requirement already satisfied: scipy>=1.3.2 in /Users/gquach/opt/anaconda3/lib/python3.8/site-packages (from scikit-learn) (1.6.2)\n"
     ]
    }
   ],
   "source": [
    "!pip install spacy\n",
    "!python -m spacy download en_core_web_sm\n",
    "!pip install -U scikit-learn"
   ]
  },
  {
   "cell_type": "code",
   "execution_count": 1,
   "id": "2e38ab48",
   "metadata": {},
   "outputs": [],
   "source": [
    "from matplotlib import pyplot as plt\n",
    "import pandas as pd\n",
    "import numpy as np\n",
    "from collections import defaultdict \n",
    "import spacy\n",
    "import en_core_web_sm\n",
    "from sklearn.feature_extraction.text import TfidfVectorizer\n",
    "from sklearn.feature_extraction.text import CountVectorizer\n",
    "from sklearn.preprocessing import OneHotEncoder\n",
    "from sklearn.mixture import GaussianMixture\n",
    "from sklearn.model_selection import train_test_split\n",
    "from sklearn.compose import ColumnTransformer\n",
    "from sklearn.preprocessing import FunctionTransformer\n",
    "from sklearn.linear_model import LinearRegression # just to see if the model is even working\n",
    "from sklearn.pipeline import Pipeline\n",
    "from sklearn.tree import DecisionTreeClassifier\n",
    "from sklearn.feature_extraction.text import TfidfTransformer\n",
    "from sklearn.preprocessing import StandardScaler\n",
    "from collections import defaultdict\n",
    "from plotly import express as px\n",
    "from sklearn.metrics import accuracy_score\n",
    "import re\n",
    "from collections import Counter "
   ]
  },
  {
   "cell_type": "code",
   "execution_count": 2,
   "id": "149e3ac7",
   "metadata": {},
   "outputs": [
    {
     "name": "stdout",
     "output_type": "stream",
     "text": [
      "/Users/sebastian/Documents/code-things/DS3-Ted-Talk/DS3-Ted-Talk\n"
     ]
    }
   ],
   "source": [
    "import os\n",
    "print(os.getcwd())"
   ]
  },
  {
   "cell_type": "code",
   "execution_count": 3,
   "id": "56eddccc",
   "metadata": {},
   "outputs": [],
   "source": [
    "raw = pd.read_csv('ted_talks_en.csv')"
   ]
  },
  {
   "cell_type": "code",
   "execution_count": 4,
   "id": "7078e882",
   "metadata": {},
   "outputs": [
    {
     "data": {
      "text/html": [
       "<div>\n",
       "<style scoped>\n",
       "    .dataframe tbody tr th:only-of-type {\n",
       "        vertical-align: middle;\n",
       "    }\n",
       "\n",
       "    .dataframe tbody tr th {\n",
       "        vertical-align: top;\n",
       "    }\n",
       "\n",
       "    .dataframe thead th {\n",
       "        text-align: right;\n",
       "    }\n",
       "</style>\n",
       "<table border=\"1\" class=\"dataframe\">\n",
       "  <thead>\n",
       "    <tr style=\"text-align: right;\">\n",
       "      <th></th>\n",
       "      <th>talk_id</th>\n",
       "      <th>title</th>\n",
       "      <th>speaker_1</th>\n",
       "      <th>all_speakers</th>\n",
       "      <th>occupations</th>\n",
       "      <th>about_speakers</th>\n",
       "      <th>views</th>\n",
       "      <th>recorded_date</th>\n",
       "      <th>published_date</th>\n",
       "      <th>event</th>\n",
       "      <th>native_lang</th>\n",
       "      <th>available_lang</th>\n",
       "      <th>comments</th>\n",
       "      <th>duration</th>\n",
       "      <th>topics</th>\n",
       "      <th>related_talks</th>\n",
       "      <th>url</th>\n",
       "      <th>description</th>\n",
       "      <th>transcript</th>\n",
       "    </tr>\n",
       "  </thead>\n",
       "  <tbody>\n",
       "    <tr>\n",
       "      <th>0</th>\n",
       "      <td>1</td>\n",
       "      <td>Averting the climate crisis</td>\n",
       "      <td>Al Gore</td>\n",
       "      <td>{0: 'Al Gore'}</td>\n",
       "      <td>{0: ['climate advocate']}</td>\n",
       "      <td>{0: 'Nobel Laureate Al Gore focused the world’...</td>\n",
       "      <td>3523392</td>\n",
       "      <td>2006-02-25</td>\n",
       "      <td>2006-06-27</td>\n",
       "      <td>TED2006</td>\n",
       "      <td>en</td>\n",
       "      <td>['ar', 'bg', 'cs', 'de', 'el', 'en', 'es', 'fa...</td>\n",
       "      <td>272.0</td>\n",
       "      <td>977</td>\n",
       "      <td>['alternative energy', 'cars', 'climate change...</td>\n",
       "      <td>{243: 'New thinking on the climate crisis', 54...</td>\n",
       "      <td>https://www.ted.com/talks/al_gore_averting_the...</td>\n",
       "      <td>With the same humor and humanity he exuded in ...</td>\n",
       "      <td>Thank you so much, Chris. And it's truly a gre...</td>\n",
       "    </tr>\n",
       "    <tr>\n",
       "      <th>1</th>\n",
       "      <td>92</td>\n",
       "      <td>The best stats you've ever seen</td>\n",
       "      <td>Hans Rosling</td>\n",
       "      <td>{0: 'Hans Rosling'}</td>\n",
       "      <td>{0: ['global health expert; data visionary']}</td>\n",
       "      <td>{0: 'In Hans Rosling’s hands, data sings. Glob...</td>\n",
       "      <td>14501685</td>\n",
       "      <td>2006-02-22</td>\n",
       "      <td>2006-06-27</td>\n",
       "      <td>TED2006</td>\n",
       "      <td>en</td>\n",
       "      <td>['ar', 'az', 'bg', 'bn', 'bs', 'cs', 'da', 'de...</td>\n",
       "      <td>628.0</td>\n",
       "      <td>1190</td>\n",
       "      <td>['Africa', 'Asia', 'Google', 'demo', 'economic...</td>\n",
       "      <td>{2056: \"Own your body's data\", 2296: 'A visual...</td>\n",
       "      <td>https://www.ted.com/talks/hans_rosling_the_bes...</td>\n",
       "      <td>You've never seen data presented like this. Wi...</td>\n",
       "      <td>About 10 years ago, I took on the task to teac...</td>\n",
       "    </tr>\n",
       "    <tr>\n",
       "      <th>2</th>\n",
       "      <td>7</td>\n",
       "      <td>Simplicity sells</td>\n",
       "      <td>David Pogue</td>\n",
       "      <td>{0: 'David Pogue'}</td>\n",
       "      <td>{0: ['technology columnist']}</td>\n",
       "      <td>{0: 'David Pogue is the personal technology co...</td>\n",
       "      <td>1920832</td>\n",
       "      <td>2006-02-24</td>\n",
       "      <td>2006-06-27</td>\n",
       "      <td>TED2006</td>\n",
       "      <td>en</td>\n",
       "      <td>['ar', 'bg', 'de', 'el', 'en', 'es', 'fa', 'fr...</td>\n",
       "      <td>124.0</td>\n",
       "      <td>1286</td>\n",
       "      <td>['computers', 'entertainment', 'interface desi...</td>\n",
       "      <td>{1725: '10 top time-saving tech tips', 2274: '...</td>\n",
       "      <td>https://www.ted.com/talks/david_pogue_simplici...</td>\n",
       "      <td>New York Times columnist David Pogue takes aim...</td>\n",
       "      <td>(Music: \"The Sound of Silence,\" Simon &amp; Garfun...</td>\n",
       "    </tr>\n",
       "    <tr>\n",
       "      <th>3</th>\n",
       "      <td>53</td>\n",
       "      <td>Greening the ghetto</td>\n",
       "      <td>Majora Carter</td>\n",
       "      <td>{0: 'Majora Carter'}</td>\n",
       "      <td>{0: ['activist for environmental justice']}</td>\n",
       "      <td>{0: 'Majora Carter redefined the field of envi...</td>\n",
       "      <td>2664069</td>\n",
       "      <td>2006-02-26</td>\n",
       "      <td>2006-06-27</td>\n",
       "      <td>TED2006</td>\n",
       "      <td>en</td>\n",
       "      <td>['ar', 'bg', 'bn', 'ca', 'cs', 'de', 'en', 'es...</td>\n",
       "      <td>219.0</td>\n",
       "      <td>1116</td>\n",
       "      <td>['MacArthur grant', 'activism', 'business', 'c...</td>\n",
       "      <td>{1041: '3 stories of local eco-entrepreneurshi...</td>\n",
       "      <td>https://www.ted.com/talks/majora_carter_greeni...</td>\n",
       "      <td>In an emotionally charged talk, MacArthur-winn...</td>\n",
       "      <td>If you're here today — and I'm very happy that...</td>\n",
       "    </tr>\n",
       "    <tr>\n",
       "      <th>4</th>\n",
       "      <td>66</td>\n",
       "      <td>Do schools kill creativity?</td>\n",
       "      <td>Sir Ken Robinson</td>\n",
       "      <td>{0: 'Sir Ken Robinson'}</td>\n",
       "      <td>{0: ['author', 'educator']}</td>\n",
       "      <td>{0: \"Creativity expert Sir Ken Robinson challe...</td>\n",
       "      <td>65051954</td>\n",
       "      <td>2006-02-25</td>\n",
       "      <td>2006-06-27</td>\n",
       "      <td>TED2006</td>\n",
       "      <td>en</td>\n",
       "      <td>['af', 'ar', 'az', 'be', 'bg', 'bn', 'ca', 'cs...</td>\n",
       "      <td>4931.0</td>\n",
       "      <td>1164</td>\n",
       "      <td>['children', 'creativity', 'culture', 'dance',...</td>\n",
       "      <td>{865: 'Bring on the learning revolution!', 173...</td>\n",
       "      <td>https://www.ted.com/talks/sir_ken_robinson_do_...</td>\n",
       "      <td>Sir Ken Robinson makes an entertaining and pro...</td>\n",
       "      <td>Good morning. How are you? (Audience) Good. It...</td>\n",
       "    </tr>\n",
       "  </tbody>\n",
       "</table>\n",
       "</div>"
      ],
      "text/plain": [
       "   talk_id                            title         speaker_1  \\\n",
       "0        1      Averting the climate crisis           Al Gore   \n",
       "1       92  The best stats you've ever seen      Hans Rosling   \n",
       "2        7                 Simplicity sells       David Pogue   \n",
       "3       53              Greening the ghetto     Majora Carter   \n",
       "4       66      Do schools kill creativity?  Sir Ken Robinson   \n",
       "\n",
       "              all_speakers                                    occupations  \\\n",
       "0           {0: 'Al Gore'}                      {0: ['climate advocate']}   \n",
       "1      {0: 'Hans Rosling'}  {0: ['global health expert; data visionary']}   \n",
       "2       {0: 'David Pogue'}                  {0: ['technology columnist']}   \n",
       "3     {0: 'Majora Carter'}    {0: ['activist for environmental justice']}   \n",
       "4  {0: 'Sir Ken Robinson'}                    {0: ['author', 'educator']}   \n",
       "\n",
       "                                      about_speakers     views recorded_date  \\\n",
       "0  {0: 'Nobel Laureate Al Gore focused the world’...   3523392    2006-02-25   \n",
       "1  {0: 'In Hans Rosling’s hands, data sings. Glob...  14501685    2006-02-22   \n",
       "2  {0: 'David Pogue is the personal technology co...   1920832    2006-02-24   \n",
       "3  {0: 'Majora Carter redefined the field of envi...   2664069    2006-02-26   \n",
       "4  {0: \"Creativity expert Sir Ken Robinson challe...  65051954    2006-02-25   \n",
       "\n",
       "  published_date    event native_lang  \\\n",
       "0     2006-06-27  TED2006          en   \n",
       "1     2006-06-27  TED2006          en   \n",
       "2     2006-06-27  TED2006          en   \n",
       "3     2006-06-27  TED2006          en   \n",
       "4     2006-06-27  TED2006          en   \n",
       "\n",
       "                                      available_lang  comments  duration  \\\n",
       "0  ['ar', 'bg', 'cs', 'de', 'el', 'en', 'es', 'fa...     272.0       977   \n",
       "1  ['ar', 'az', 'bg', 'bn', 'bs', 'cs', 'da', 'de...     628.0      1190   \n",
       "2  ['ar', 'bg', 'de', 'el', 'en', 'es', 'fa', 'fr...     124.0      1286   \n",
       "3  ['ar', 'bg', 'bn', 'ca', 'cs', 'de', 'en', 'es...     219.0      1116   \n",
       "4  ['af', 'ar', 'az', 'be', 'bg', 'bn', 'ca', 'cs...    4931.0      1164   \n",
       "\n",
       "                                              topics  \\\n",
       "0  ['alternative energy', 'cars', 'climate change...   \n",
       "1  ['Africa', 'Asia', 'Google', 'demo', 'economic...   \n",
       "2  ['computers', 'entertainment', 'interface desi...   \n",
       "3  ['MacArthur grant', 'activism', 'business', 'c...   \n",
       "4  ['children', 'creativity', 'culture', 'dance',...   \n",
       "\n",
       "                                       related_talks  \\\n",
       "0  {243: 'New thinking on the climate crisis', 54...   \n",
       "1  {2056: \"Own your body's data\", 2296: 'A visual...   \n",
       "2  {1725: '10 top time-saving tech tips', 2274: '...   \n",
       "3  {1041: '3 stories of local eco-entrepreneurshi...   \n",
       "4  {865: 'Bring on the learning revolution!', 173...   \n",
       "\n",
       "                                                 url  \\\n",
       "0  https://www.ted.com/talks/al_gore_averting_the...   \n",
       "1  https://www.ted.com/talks/hans_rosling_the_bes...   \n",
       "2  https://www.ted.com/talks/david_pogue_simplici...   \n",
       "3  https://www.ted.com/talks/majora_carter_greeni...   \n",
       "4  https://www.ted.com/talks/sir_ken_robinson_do_...   \n",
       "\n",
       "                                         description  \\\n",
       "0  With the same humor and humanity he exuded in ...   \n",
       "1  You've never seen data presented like this. Wi...   \n",
       "2  New York Times columnist David Pogue takes aim...   \n",
       "3  In an emotionally charged talk, MacArthur-winn...   \n",
       "4  Sir Ken Robinson makes an entertaining and pro...   \n",
       "\n",
       "                                          transcript  \n",
       "0  Thank you so much, Chris. And it's truly a gre...  \n",
       "1  About 10 years ago, I took on the task to teac...  \n",
       "2  (Music: \"The Sound of Silence,\" Simon & Garfun...  \n",
       "3  If you're here today — and I'm very happy that...  \n",
       "4  Good morning. How are you? (Audience) Good. It...  "
      ]
     },
     "execution_count": 4,
     "metadata": {},
     "output_type": "execute_result"
    }
   ],
   "source": [
    "raw.head()"
   ]
  },
  {
   "cell_type": "raw",
   "id": "73771a4b",
   "metadata": {},
   "source": []
  },
  {
   "cell_type": "code",
   "execution_count": 5,
   "id": "3b6730ab",
   "metadata": {},
   "outputs": [
    {
     "data": {
      "text/plain": [
       "458"
      ]
     },
     "execution_count": 5,
     "metadata": {},
     "output_type": "execute_result"
    }
   ],
   "source": [
    "arr = raw['topics'].to_numpy()\n",
    "keywords = defaultdict(int)\n",
    "for i, inner in enumerate(arr):\n",
    "    x = inner.split(\"'\")\n",
    "    for i, tag in enumerate(x):\n",
    "        if i % 2 != 0 and i != 0 and i != len(x) - 1:\n",
    "            keywords[tag.lower()] += 1\n",
    "len(keywords.keys())"
   ]
  },
  {
   "cell_type": "code",
   "execution_count": 6,
   "id": "1b55891e",
   "metadata": {},
   "outputs": [],
   "source": [
    "most_common_keywords = sorted(list(keywords.keys()), key=lambda keyword: keywords[keyword])[::-1]\n",
    "occurences = [keywords[keyword] for keyword in most_common_keywords]\n",
    "#list(zip(most_common_keywords, occurences))"
   ]
  },
  {
   "cell_type": "code",
   "execution_count": 7,
   "id": "cdbd0e96",
   "metadata": {},
   "outputs": [
    {
     "data": {
      "application/vnd.plotly.v1+json": {
       "config": {
        "plotlyServerURL": "https://plot.ly"
       },
       "data": [
        {
         "alignmentgroup": "True",
         "bingroup": "x",
         "hovertemplate": "Number of Speeches per Label=%{x}<br>count=%{y}<extra></extra>",
         "legendgroup": "",
         "marker": {
          "color": "#636efa",
          "pattern": {
           "shape": ""
          }
         },
         "name": "",
         "offsetgroup": "",
         "orientation": "v",
         "showlegend": false,
         "type": "histogram",
         "x": [
          991,
          977,
          680,
          581,
          574,
          563,
          557,
          518,
          512,
          487,
          443,
          441,
          406,
          390,
          387,
          371,
          354,
          348,
          329,
          327,
          321,
          312,
          298,
          278,
          265,
          256,
          251,
          237,
          236,
          233,
          227,
          226,
          223,
          216,
          211,
          210,
          203,
          200,
          199,
          188,
          181,
          172,
          171,
          170,
          167,
          167,
          164,
          164,
          156,
          156,
          154,
          151,
          148,
          147,
          146,
          146,
          144,
          142,
          138,
          137,
          133,
          132,
          131,
          128,
          124,
          123,
          122,
          120,
          115,
          111,
          111,
          110,
          108,
          107,
          105,
          105,
          103,
          102,
          99,
          98,
          98,
          97,
          97,
          96,
          95,
          94,
          94,
          92,
          92,
          92,
          90,
          88,
          87,
          86,
          85,
          85,
          84,
          83,
          82,
          81,
          81,
          80,
          80,
          79,
          78,
          78,
          77,
          76,
          76,
          76,
          75,
          75,
          75,
          75,
          75,
          74,
          74,
          74,
          73,
          71,
          71,
          70,
          70,
          70,
          66,
          66,
          65,
          63,
          63,
          62,
          62,
          61,
          61,
          60,
          59,
          59,
          59,
          58,
          58,
          57,
          55,
          55,
          55,
          55,
          55,
          54,
          54,
          53,
          53,
          53,
          52,
          52,
          51,
          51,
          50,
          50,
          49,
          48,
          48,
          48,
          48,
          47,
          47,
          47,
          47,
          46,
          46,
          46,
          45,
          45,
          45,
          44,
          43,
          42,
          42,
          42,
          41,
          40,
          40,
          39,
          39,
          39,
          39,
          38,
          38,
          38,
          37,
          37,
          37,
          37,
          37,
          36,
          36,
          35,
          35,
          35,
          35,
          35,
          35,
          34,
          34,
          33,
          33,
          33,
          33,
          33,
          32,
          32,
          32,
          32,
          32,
          32,
          32,
          31,
          31,
          31,
          31,
          31,
          30,
          30,
          30,
          30,
          30,
          30,
          30,
          30,
          30,
          30,
          29,
          29,
          29,
          29,
          28,
          28,
          28,
          28,
          28,
          27,
          27,
          27,
          27,
          26,
          26,
          26,
          26,
          26,
          26,
          25,
          25,
          24,
          24,
          24,
          24,
          23,
          23,
          23,
          23,
          23,
          23,
          23,
          22,
          22,
          22,
          22,
          22,
          22,
          22,
          22,
          22,
          21,
          21,
          21,
          21,
          21,
          21,
          21,
          21,
          21,
          21,
          20,
          20,
          20,
          19,
          19,
          19,
          19,
          19,
          19,
          19,
          18,
          18,
          18,
          18,
          18,
          18,
          18,
          18,
          18,
          18,
          18,
          18,
          18,
          17,
          17,
          17,
          17,
          17,
          17,
          17,
          17,
          17,
          17,
          17,
          17,
          17,
          16,
          16,
          16,
          16,
          15,
          15,
          15,
          15,
          15,
          15,
          15,
          14,
          14,
          14,
          14,
          14,
          14,
          14,
          14,
          14,
          14,
          13,
          13,
          13,
          13,
          13,
          13,
          13,
          13,
          13,
          13,
          13,
          13,
          13,
          13,
          13,
          12,
          12,
          12,
          12,
          12,
          11,
          11,
          11,
          11,
          11,
          11,
          11,
          11,
          11,
          11,
          11,
          11,
          11,
          10,
          10,
          10,
          10,
          10,
          10,
          10,
          10,
          10,
          10,
          9,
          9,
          9,
          9,
          9,
          9,
          9,
          9,
          9,
          9,
          8,
          8,
          8,
          8,
          8,
          8,
          8,
          8,
          8,
          8,
          8,
          8,
          8,
          7,
          7,
          7,
          7,
          7,
          7,
          7,
          7,
          7,
          7,
          6,
          6,
          6,
          6,
          6,
          6,
          6,
          6,
          6,
          6,
          6,
          6,
          5,
          5,
          5,
          5,
          5,
          5,
          5,
          5,
          5,
          5,
          5,
          4,
          4,
          4,
          4,
          4,
          4,
          4,
          4,
          4,
          3,
          3,
          3,
          3,
          3,
          2,
          2,
          2,
          1,
          1,
          1,
          1,
          1,
          1
         ],
         "xaxis": "x",
         "yaxis": "y"
        }
       ],
       "layout": {
        "annotations": [
         {
          "text": "Unique Topics Kept",
          "x": 700,
          "y": 200
         },
         {
          "text": "Unique Topics Discarded",
          "x": 25,
          "y": 200
         }
        ],
        "barmode": "relative",
        "legend": {
         "tracegroupgap": 0
        },
        "shapes": [
         {
          "line": {
           "color": "red"
          },
          "type": "line",
          "x0": 50,
          "x1": 50,
          "xref": "x",
          "y0": 0,
          "y1": 1,
          "yref": "y domain"
         }
        ],
        "template": {
         "data": {
          "bar": [
           {
            "error_x": {
             "color": "#2a3f5f"
            },
            "error_y": {
             "color": "#2a3f5f"
            },
            "marker": {
             "line": {
              "color": "#E5ECF6",
              "width": 0.5
             },
             "pattern": {
              "fillmode": "overlay",
              "size": 10,
              "solidity": 0.2
             }
            },
            "type": "bar"
           }
          ],
          "barpolar": [
           {
            "marker": {
             "line": {
              "color": "#E5ECF6",
              "width": 0.5
             },
             "pattern": {
              "fillmode": "overlay",
              "size": 10,
              "solidity": 0.2
             }
            },
            "type": "barpolar"
           }
          ],
          "carpet": [
           {
            "aaxis": {
             "endlinecolor": "#2a3f5f",
             "gridcolor": "white",
             "linecolor": "white",
             "minorgridcolor": "white",
             "startlinecolor": "#2a3f5f"
            },
            "baxis": {
             "endlinecolor": "#2a3f5f",
             "gridcolor": "white",
             "linecolor": "white",
             "minorgridcolor": "white",
             "startlinecolor": "#2a3f5f"
            },
            "type": "carpet"
           }
          ],
          "choropleth": [
           {
            "colorbar": {
             "outlinewidth": 0,
             "ticks": ""
            },
            "type": "choropleth"
           }
          ],
          "contour": [
           {
            "colorbar": {
             "outlinewidth": 0,
             "ticks": ""
            },
            "colorscale": [
             [
              0,
              "#0d0887"
             ],
             [
              0.1111111111111111,
              "#46039f"
             ],
             [
              0.2222222222222222,
              "#7201a8"
             ],
             [
              0.3333333333333333,
              "#9c179e"
             ],
             [
              0.4444444444444444,
              "#bd3786"
             ],
             [
              0.5555555555555556,
              "#d8576b"
             ],
             [
              0.6666666666666666,
              "#ed7953"
             ],
             [
              0.7777777777777778,
              "#fb9f3a"
             ],
             [
              0.8888888888888888,
              "#fdca26"
             ],
             [
              1,
              "#f0f921"
             ]
            ],
            "type": "contour"
           }
          ],
          "contourcarpet": [
           {
            "colorbar": {
             "outlinewidth": 0,
             "ticks": ""
            },
            "type": "contourcarpet"
           }
          ],
          "heatmap": [
           {
            "colorbar": {
             "outlinewidth": 0,
             "ticks": ""
            },
            "colorscale": [
             [
              0,
              "#0d0887"
             ],
             [
              0.1111111111111111,
              "#46039f"
             ],
             [
              0.2222222222222222,
              "#7201a8"
             ],
             [
              0.3333333333333333,
              "#9c179e"
             ],
             [
              0.4444444444444444,
              "#bd3786"
             ],
             [
              0.5555555555555556,
              "#d8576b"
             ],
             [
              0.6666666666666666,
              "#ed7953"
             ],
             [
              0.7777777777777778,
              "#fb9f3a"
             ],
             [
              0.8888888888888888,
              "#fdca26"
             ],
             [
              1,
              "#f0f921"
             ]
            ],
            "type": "heatmap"
           }
          ],
          "heatmapgl": [
           {
            "colorbar": {
             "outlinewidth": 0,
             "ticks": ""
            },
            "colorscale": [
             [
              0,
              "#0d0887"
             ],
             [
              0.1111111111111111,
              "#46039f"
             ],
             [
              0.2222222222222222,
              "#7201a8"
             ],
             [
              0.3333333333333333,
              "#9c179e"
             ],
             [
              0.4444444444444444,
              "#bd3786"
             ],
             [
              0.5555555555555556,
              "#d8576b"
             ],
             [
              0.6666666666666666,
              "#ed7953"
             ],
             [
              0.7777777777777778,
              "#fb9f3a"
             ],
             [
              0.8888888888888888,
              "#fdca26"
             ],
             [
              1,
              "#f0f921"
             ]
            ],
            "type": "heatmapgl"
           }
          ],
          "histogram": [
           {
            "marker": {
             "pattern": {
              "fillmode": "overlay",
              "size": 10,
              "solidity": 0.2
             }
            },
            "type": "histogram"
           }
          ],
          "histogram2d": [
           {
            "colorbar": {
             "outlinewidth": 0,
             "ticks": ""
            },
            "colorscale": [
             [
              0,
              "#0d0887"
             ],
             [
              0.1111111111111111,
              "#46039f"
             ],
             [
              0.2222222222222222,
              "#7201a8"
             ],
             [
              0.3333333333333333,
              "#9c179e"
             ],
             [
              0.4444444444444444,
              "#bd3786"
             ],
             [
              0.5555555555555556,
              "#d8576b"
             ],
             [
              0.6666666666666666,
              "#ed7953"
             ],
             [
              0.7777777777777778,
              "#fb9f3a"
             ],
             [
              0.8888888888888888,
              "#fdca26"
             ],
             [
              1,
              "#f0f921"
             ]
            ],
            "type": "histogram2d"
           }
          ],
          "histogram2dcontour": [
           {
            "colorbar": {
             "outlinewidth": 0,
             "ticks": ""
            },
            "colorscale": [
             [
              0,
              "#0d0887"
             ],
             [
              0.1111111111111111,
              "#46039f"
             ],
             [
              0.2222222222222222,
              "#7201a8"
             ],
             [
              0.3333333333333333,
              "#9c179e"
             ],
             [
              0.4444444444444444,
              "#bd3786"
             ],
             [
              0.5555555555555556,
              "#d8576b"
             ],
             [
              0.6666666666666666,
              "#ed7953"
             ],
             [
              0.7777777777777778,
              "#fb9f3a"
             ],
             [
              0.8888888888888888,
              "#fdca26"
             ],
             [
              1,
              "#f0f921"
             ]
            ],
            "type": "histogram2dcontour"
           }
          ],
          "mesh3d": [
           {
            "colorbar": {
             "outlinewidth": 0,
             "ticks": ""
            },
            "type": "mesh3d"
           }
          ],
          "parcoords": [
           {
            "line": {
             "colorbar": {
              "outlinewidth": 0,
              "ticks": ""
             }
            },
            "type": "parcoords"
           }
          ],
          "pie": [
           {
            "automargin": true,
            "type": "pie"
           }
          ],
          "scatter": [
           {
            "fillpattern": {
             "fillmode": "overlay",
             "size": 10,
             "solidity": 0.2
            },
            "type": "scatter"
           }
          ],
          "scatter3d": [
           {
            "line": {
             "colorbar": {
              "outlinewidth": 0,
              "ticks": ""
             }
            },
            "marker": {
             "colorbar": {
              "outlinewidth": 0,
              "ticks": ""
             }
            },
            "type": "scatter3d"
           }
          ],
          "scattercarpet": [
           {
            "marker": {
             "colorbar": {
              "outlinewidth": 0,
              "ticks": ""
             }
            },
            "type": "scattercarpet"
           }
          ],
          "scattergeo": [
           {
            "marker": {
             "colorbar": {
              "outlinewidth": 0,
              "ticks": ""
             }
            },
            "type": "scattergeo"
           }
          ],
          "scattergl": [
           {
            "marker": {
             "colorbar": {
              "outlinewidth": 0,
              "ticks": ""
             }
            },
            "type": "scattergl"
           }
          ],
          "scattermapbox": [
           {
            "marker": {
             "colorbar": {
              "outlinewidth": 0,
              "ticks": ""
             }
            },
            "type": "scattermapbox"
           }
          ],
          "scatterpolar": [
           {
            "marker": {
             "colorbar": {
              "outlinewidth": 0,
              "ticks": ""
             }
            },
            "type": "scatterpolar"
           }
          ],
          "scatterpolargl": [
           {
            "marker": {
             "colorbar": {
              "outlinewidth": 0,
              "ticks": ""
             }
            },
            "type": "scatterpolargl"
           }
          ],
          "scatterternary": [
           {
            "marker": {
             "colorbar": {
              "outlinewidth": 0,
              "ticks": ""
             }
            },
            "type": "scatterternary"
           }
          ],
          "surface": [
           {
            "colorbar": {
             "outlinewidth": 0,
             "ticks": ""
            },
            "colorscale": [
             [
              0,
              "#0d0887"
             ],
             [
              0.1111111111111111,
              "#46039f"
             ],
             [
              0.2222222222222222,
              "#7201a8"
             ],
             [
              0.3333333333333333,
              "#9c179e"
             ],
             [
              0.4444444444444444,
              "#bd3786"
             ],
             [
              0.5555555555555556,
              "#d8576b"
             ],
             [
              0.6666666666666666,
              "#ed7953"
             ],
             [
              0.7777777777777778,
              "#fb9f3a"
             ],
             [
              0.8888888888888888,
              "#fdca26"
             ],
             [
              1,
              "#f0f921"
             ]
            ],
            "type": "surface"
           }
          ],
          "table": [
           {
            "cells": {
             "fill": {
              "color": "#EBF0F8"
             },
             "line": {
              "color": "white"
             }
            },
            "header": {
             "fill": {
              "color": "#C8D4E3"
             },
             "line": {
              "color": "white"
             }
            },
            "type": "table"
           }
          ]
         },
         "layout": {
          "annotationdefaults": {
           "arrowcolor": "#2a3f5f",
           "arrowhead": 0,
           "arrowwidth": 1
          },
          "autotypenumbers": "strict",
          "coloraxis": {
           "colorbar": {
            "outlinewidth": 0,
            "ticks": ""
           }
          },
          "colorscale": {
           "diverging": [
            [
             0,
             "#8e0152"
            ],
            [
             0.1,
             "#c51b7d"
            ],
            [
             0.2,
             "#de77ae"
            ],
            [
             0.3,
             "#f1b6da"
            ],
            [
             0.4,
             "#fde0ef"
            ],
            [
             0.5,
             "#f7f7f7"
            ],
            [
             0.6,
             "#e6f5d0"
            ],
            [
             0.7,
             "#b8e186"
            ],
            [
             0.8,
             "#7fbc41"
            ],
            [
             0.9,
             "#4d9221"
            ],
            [
             1,
             "#276419"
            ]
           ],
           "sequential": [
            [
             0,
             "#0d0887"
            ],
            [
             0.1111111111111111,
             "#46039f"
            ],
            [
             0.2222222222222222,
             "#7201a8"
            ],
            [
             0.3333333333333333,
             "#9c179e"
            ],
            [
             0.4444444444444444,
             "#bd3786"
            ],
            [
             0.5555555555555556,
             "#d8576b"
            ],
            [
             0.6666666666666666,
             "#ed7953"
            ],
            [
             0.7777777777777778,
             "#fb9f3a"
            ],
            [
             0.8888888888888888,
             "#fdca26"
            ],
            [
             1,
             "#f0f921"
            ]
           ],
           "sequentialminus": [
            [
             0,
             "#0d0887"
            ],
            [
             0.1111111111111111,
             "#46039f"
            ],
            [
             0.2222222222222222,
             "#7201a8"
            ],
            [
             0.3333333333333333,
             "#9c179e"
            ],
            [
             0.4444444444444444,
             "#bd3786"
            ],
            [
             0.5555555555555556,
             "#d8576b"
            ],
            [
             0.6666666666666666,
             "#ed7953"
            ],
            [
             0.7777777777777778,
             "#fb9f3a"
            ],
            [
             0.8888888888888888,
             "#fdca26"
            ],
            [
             1,
             "#f0f921"
            ]
           ]
          },
          "colorway": [
           "#636efa",
           "#EF553B",
           "#00cc96",
           "#ab63fa",
           "#FFA15A",
           "#19d3f3",
           "#FF6692",
           "#B6E880",
           "#FF97FF",
           "#FECB52"
          ],
          "font": {
           "color": "#2a3f5f"
          },
          "geo": {
           "bgcolor": "white",
           "lakecolor": "white",
           "landcolor": "#E5ECF6",
           "showlakes": true,
           "showland": true,
           "subunitcolor": "white"
          },
          "hoverlabel": {
           "align": "left"
          },
          "hovermode": "closest",
          "mapbox": {
           "style": "light"
          },
          "paper_bgcolor": "white",
          "plot_bgcolor": "#E5ECF6",
          "polar": {
           "angularaxis": {
            "gridcolor": "white",
            "linecolor": "white",
            "ticks": ""
           },
           "bgcolor": "#E5ECF6",
           "radialaxis": {
            "gridcolor": "white",
            "linecolor": "white",
            "ticks": ""
           }
          },
          "scene": {
           "xaxis": {
            "backgroundcolor": "#E5ECF6",
            "gridcolor": "white",
            "gridwidth": 2,
            "linecolor": "white",
            "showbackground": true,
            "ticks": "",
            "zerolinecolor": "white"
           },
           "yaxis": {
            "backgroundcolor": "#E5ECF6",
            "gridcolor": "white",
            "gridwidth": 2,
            "linecolor": "white",
            "showbackground": true,
            "ticks": "",
            "zerolinecolor": "white"
           },
           "zaxis": {
            "backgroundcolor": "#E5ECF6",
            "gridcolor": "white",
            "gridwidth": 2,
            "linecolor": "white",
            "showbackground": true,
            "ticks": "",
            "zerolinecolor": "white"
           }
          },
          "shapedefaults": {
           "line": {
            "color": "#2a3f5f"
           }
          },
          "ternary": {
           "aaxis": {
            "gridcolor": "white",
            "linecolor": "white",
            "ticks": ""
           },
           "baxis": {
            "gridcolor": "white",
            "linecolor": "white",
            "ticks": ""
           },
           "bgcolor": "#E5ECF6",
           "caxis": {
            "gridcolor": "white",
            "linecolor": "white",
            "ticks": ""
           }
          },
          "title": {
           "x": 0.05
          },
          "xaxis": {
           "automargin": true,
           "gridcolor": "white",
           "linecolor": "white",
           "ticks": "",
           "title": {
            "standoff": 15
           },
           "zerolinecolor": "white",
           "zerolinewidth": 2
          },
          "yaxis": {
           "automargin": true,
           "gridcolor": "white",
           "linecolor": "white",
           "ticks": "",
           "title": {
            "standoff": 15
           },
           "zerolinecolor": "white",
           "zerolinewidth": 2
          }
         }
        },
        "title": {
         "text": "Unique Topic Frequency"
        },
        "xaxis": {
         "anchor": "y",
         "domain": [
          0,
          1
         ],
         "title": {
          "text": "Number of Speeches per Label"
         }
        },
        "yaxis": {
         "anchor": "x",
         "domain": [
          0,
          1
         ],
         "title": {
          "text": "count"
         }
        }
       }
      }
     },
     "metadata": {},
     "output_type": "display_data"
    }
   ],
   "source": [
    "fig = px.histogram(pd.DataFrame({\"Number of Speeches per Label\": occurences}),\n",
    "                    title=\"Unique Topic Frequency\",\n",
    "                    x=\"Number of Speeches per Label\")\n",
    "fig.add_vline(x=50, line_color=\"red\")\n",
    "fig.add_annotation(x=700, y=200, text=\"Unique Topics Kept\")\n",
    "fig.add_annotation(x=25, y=200, text=\"Unique Topics Discarded\")\n",
    "fig.show()"
   ]
  },
  {
   "cell_type": "code",
   "execution_count": 8,
   "id": "02d2955e",
   "metadata": {},
   "outputs": [
    {
     "name": "stdout",
     "output_type": "stream",
     "text": [
      "Amount of topics with occurences >= 50 : 156\n"
     ]
    }
   ],
   "source": [
    "cutoff = 50\n",
    "y = filter(lambda x: x >= cutoff, occurences)\n",
    "print(f\"Amount of topics with occurences >= {cutoff} : {len(list(y))}\")"
   ]
  },
  {
   "cell_type": "code",
   "execution_count": 9,
   "id": "60168131",
   "metadata": {},
   "outputs": [],
   "source": [
    "def convert_topics(topic):\n",
    "    x = topic.split(\"'\")\n",
    "    tags = []\n",
    "    for i, tag in enumerate(x):\n",
    "        if i % 2 != 0 and i != 0 and i != len(x) - 1:\n",
    "            tags.append(tag.lower())\n",
    "    return tags\n",
    "\n",
    "def correct_dataframe_topics_column(df, in_place=False):\n",
    "    if not in_place:\n",
    "        df = df.copy()\n",
    "    topics_listed_column = df['topics'].apply(convert_topics)\n",
    "    df['topics'] = topics_listed_column\n",
    "    return df"
   ]
  },
  {
   "cell_type": "code",
   "execution_count": 10,
   "id": "04e8173e",
   "metadata": {},
   "outputs": [],
   "source": [
    "\"\"\"\n",
    "Topics of focus:\n",
    "STEM - Science, Technology, Engineering, Math(Mathematics), Psychology, Physics, Biotech, AI, Cognitive Science\n",
    "Culture - Culture, Society, Community\n",
    "Business - Business, Economics\n",
    "Social Change - social change/activism\n",
    "History - History/Politics\n",
    "\"\"\"\n",
    "topic_to_group = defaultdict(lambda: 'not-relevant')\n",
    "stem = [\"science\", \"technology\", \"engineering\", \"math\", \"mathematics\", \"psychology\", \"physics\", \"biotech\", \"ai\", \"cognitive science\", 'math', 'computers', 'science', 'software', 'technology', 'visualizations', 'health']\n",
    "culture = [\"culture\", \"society\", \"community\", 'culture', 'humor', 'visualizations', 'children', 'creativity', 'entertainment', 'media', 'education', 'parenting', 'teaching', 'collaboration', 'music', 'performance', 'activism', 'africa', 'inequality', 'politics']\n",
    "business = [\"business\", \"economics\",  'design', 'comedy', 'storytelling', 'entertainment', 'media', 'business', 'cities', 'demo', 'economics']\n",
    "activism = ['social change', 'activism',  'climate change', 'environment', 'global issues', 'sustainability', 'green', 'inequality', 'global development', 'pollution']\n",
    "history = ['history', 'politics',  'creativity', 'architecture', 'religion', 'storytelling']\n",
    "categories = [ ['stem'] + stem, ['culture'] + culture, ['business'] + business,\n",
    "              ['activism'] + activism, ['history'] + history]\n",
    "\n",
    "for category in categories:\n",
    "    cat = None\n",
    "    for i, topic in enumerate(category):\n",
    "        if i == 0:\n",
    "            cat = topic\n",
    "            continue\n",
    "        topic_to_group[topic] = cat"
   ]
  },
  {
   "cell_type": "code",
   "execution_count": 11,
   "id": "eb26c708",
   "metadata": {},
   "outputs": [],
   "source": [
    "def group_topics(topic_list):\n",
    "    grouped = defaultdict(int)\n",
    "    for topic in topic_list:\n",
    "        grouped[topic_to_group[topic]] += 1\n",
    "    vals_with_keys = sorted(\n",
    "        [(topic, grouped[topic]) for topic in grouped.keys()],\n",
    "        key=lambda tup: tup[1])[::-1]\n",
    "    for tup in vals_with_keys: \n",
    "        if tup[0] != 'not-relevant': \n",
    "            return tup[0]\n",
    "    return \"not-relevant\"\n",
    "\n",
    "def group_df_topics(df, in_place=False):\n",
    "    if not in_place:\n",
    "        df = df.copy()\n",
    "    df['grouped_topics'] = df['topics'].apply(group_topics)\n",
    "    return df"
   ]
  },
  {
   "cell_type": "code",
   "execution_count": 12,
   "id": "ee1b0401",
   "metadata": {},
   "outputs": [],
   "source": [
    "def count_unique_words(script): \n",
    "    unique_words = dict()\n",
    "    script_lst = script.split()\n",
    "    for word in script_lst: \n",
    "        if word in unique_words: \n",
    "            unique_words[word] += 1\n",
    "        else: \n",
    "            unique_words[word] = 1\n",
    "    return unique_words\n",
    "\n",
    "def add_words(df, in_place=False):\n",
    "    if in_place:\n",
    "        df = df.copy()\n",
    "    df[\"clean_scripts\"] = (\n",
    "    df[\"transcript\"]\n",
    "    .str.replace(r'\\(Music: [^)]+\\) ','', regex = True)\n",
    "    .str.replace(r' — ', ' ', regex = True)\n",
    "    .str.replace(r'[[.\"\\'!\\],:?;=+*&]', '', regex = True)\n",
    "    .str.lower())\n",
    "    df[\"words\"] = df[\"clean_scripts\"].apply(count_unique_words)\n",
    "    return df"
   ]
  },
  {
   "cell_type": "code",
   "execution_count": 13,
   "id": "b67ae7f9",
   "metadata": {},
   "outputs": [],
   "source": [
    "# NOT USING RIGHT NOW \n",
    "def one_hot_encode(df: pd.DataFrame, verbose=False, in_place=False):\n",
    "    \"\"\"\n",
    "    expects df to have a columns ['words'] which contains a dictionary for each entry,\n",
    "    this dictionary has all the unique words in this row's transcript as keys, and their values\n",
    "    correspond the amount of time that word appears in the transcript. This creates \n",
    "    \"\"\"\n",
    "    word_dicts = df['words'].to_numpy()\n",
    "    total_dict = defaultdict(int)\n",
    "    total_count = 0\n",
    "    for word_dict in word_dicts:\n",
    "        for word in word_dict.keys():\n",
    "            total_dict[word] += word_dict[word]\n",
    "            total_count += word_dict[word]\n",
    "    unique_count = len(list(total_dict.keys()))\n",
    "    if verbose: \n",
    "        print(\"Amount of unique words: {:,}\".format(unique_count), \n",
    "             \"\\nTotal word count: {:,}\".format(total_count))\n",
    "    \n",
    "    word_to_onehot_location = {}\n",
    "    for i, word in enumerate(list(total_dict.keys())):\n",
    "        word_to_onehot_location[word] = i\n",
    "        \n",
    "    new_col = []\n",
    "    for i, row in enumerate(word_dicts):\n",
    "        new_entry = np.zeros(unique_count, dtype=int)\n",
    "        for word in row:\n",
    "            new_entry[word_to_onehot_location[word]] = 1\n",
    "        new_col.append(new_entry)\n",
    "    if in_place:\n",
    "        new_df = df\n",
    "    else:\n",
    "        new_df = df.copy()\n",
    "    new_df['one-hot'] = new_col\n",
    "    return new_df\n",
    "\n",
    "def sentence_type(df, in_place=False):\n",
    "    \"\"\"\n",
    "    adds an array to each row\n",
    "    this array contains the frequency of each setence type\n",
    "    arr[0] = . | arr[1] = ? | arr[2] = !\n",
    "    each entry is total occurences / total punctuation count\n",
    "    \"\"\"\n",
    "    new_col = []\n",
    "    for transcript in df['transcript']:\n",
    "        new_entry = np.zeros(3)\n",
    "        p_count, q_count, e_count = transcript.count('.'), transcript.count('?'), transcript.count('!')\n",
    "        total_sentences = p_count + q_count + e_count + 1\n",
    "        new_entry[0] = (p_count + 1)/ total_sentences\n",
    "        new_entry[1] = (q_count + 1)/ total_sentences\n",
    "        new_entry[2] = (e_count + 1)/ total_sentences\n",
    "        new_col.append(new_entry)\n",
    "    if in_place:\n",
    "        new_df = df\n",
    "    else:\n",
    "        new_df = df.copy()\n",
    "    new_df['sentence-type'] = new_col\n",
    "    return new_df\n"
   ]
  },
  {
   "cell_type": "code",
   "execution_count": 14,
   "id": "f3263e6c",
   "metadata": {},
   "outputs": [],
   "source": [
    "## TFIDF Calculation\n",
    "\n",
    "\n",
    "# NOT USING RIGHT NOW \n",
    "def tfidf_value(transcript):\n",
    "    tfIdfVectorizer = TfidfVectorizer(use_idf=True)\n",
    "    tfIdf = tfIdfVectorizer.fit_transform([transcript])\n",
    "    #list_of_words_tfidf = tfIdfVectorizer.get_feature_names_out()\n",
    "    tfidf_value = tfIdf.toarray()[0]\n",
    "    return tfidf_value\n",
    "\n",
    "def tfidf_words(transcript):\n",
    "    tfIdfVectorizer = TfidfVectorizer(use_idf=True)\n",
    "    tfIdf = tfIdfVectorizer.fit_transform([transcript])\n",
    "    try:\n",
    "        list_of_words_tfidf = tfIdfVectorizer.get_feature_names_out()\n",
    "    except Error:\n",
    "        list_of_words_tfidf = tfIdfVectorizer.get_feature_names()\n",
    "    tfidf_words = list_of_words_tfidf\n",
    "    return tfidf_words\n",
    "\n",
    "def tfidf_dict(transcript):\n",
    "    tfIdfVectorizer = TfidfVectorizer(use_idf=True)\n",
    "    tfIdf = tfIdfVectorizer.fit_transform([transcript])\n",
    "    try:\n",
    "        list_of_words_tfidf = tfIdfVectorizer.get_feature_names_out()\n",
    "    except Error:\n",
    "        list_of_words_tfidf = tfIdfVectorizer.get_feature_names()\n",
    "    tfidf_value = tfIdf.toarray()[0]\n",
    "    tfidf_dict = dict(zip(list_of_words_tfidf,tfidf_value))\n",
    "    return tfidf_dict\n",
    "\n",
    "def add_tfidf(df: pd.DataFrame, in_place=False):\n",
    "    if in_place:\n",
    "        df = df.copy()\n",
    "    df['tfidf'] = df['transcript'].apply(tfidf_value)\n",
    "    df['tfidf_word'] = df['transcript'].apply(tfidf_words)\n",
    "    df['tfidf_dict'] = df['transcript'].apply(tfidf_dict)\n",
    "    return df"
   ]
  },
  {
   "cell_type": "code",
   "execution_count": 15,
   "id": "e914aa41",
   "metadata": {},
   "outputs": [],
   "source": [
    "# NOT USING RIGHT NOW \n",
    "def get_feature_engineered():\n",
    "    data = raw.copy()\n",
    "    data = correct_dataframe_topics_column(data, in_place=True)\n",
    "    data = group_df_topics(data, in_place=True)\n",
    "    data = add_words(data, in_place=True)\n",
    "    data = one_hot_encode(data, in_place=True)\n",
    "    data = sentence_type(data, in_place=True)\n",
    "    data = add_tfidf(data, in_place=True)\n",
    "    data = data.drop(columns = [\n",
    "    \"talk_id\", \"speaker_1\", \"recorded_date\", \n",
    "    \"event\", \"duration\", \"url\", \"comments\", \"about_speakers\", \n",
    "    \"available_lang\", \"all_speakers\", \"native_lang\"])\n",
    "    return data"
   ]
  },
  {
   "cell_type": "code",
   "execution_count": 16,
   "id": "fd65e097",
   "metadata": {},
   "outputs": [],
   "source": [
    "def get_cleaned_data():\n",
    "    data = raw.copy()\n",
    "    data = correct_dataframe_topics_column(data, in_place=True)\n",
    "    data = group_df_topics(data, in_place=True)\n",
    "    data = add_words(data, in_place=True)\n",
    "    data = sentence_type(data, in_place=True)\n",
    "    data = data.drop(columns = [\n",
    "    \"talk_id\", \"speaker_1\", \"recorded_date\", \"published_date\", \n",
    "    \"event\", \"url\", \"about_speakers\", \n",
    "    \"available_lang\", \"all_speakers\", \"native_lang\", \"occupations\", \"related_talks\", \"description\", \"sentence-type\"])\n",
    "    return data"
   ]
  },
  {
   "cell_type": "code",
   "execution_count": 17,
   "id": "83abe3fa",
   "metadata": {
    "scrolled": true
   },
   "outputs": [
    {
     "name": "stderr",
     "output_type": "stream",
     "text": [
      "/Users/sebastian/miniforge3/envs/ted-talks/lib/python3.11/site-packages/pandas/core/strings/object_array.py:158: FutureWarning:\n",
      "\n",
      "Possible nested set at position 1\n",
      "\n"
     ]
    }
   ],
   "source": [
    "data_eda = get_cleaned_data()"
   ]
  },
  {
   "cell_type": "code",
   "execution_count": 18,
   "id": "00f6d54a",
   "metadata": {
    "scrolled": false
   },
   "outputs": [
    {
     "data": {
      "text/plain": [
       "stem            1445\n",
       "culture          946\n",
       "activism         662\n",
       "business         445\n",
       "history          356\n",
       "not-relevant     151\n",
       "Name: grouped_topics, dtype: int64"
      ]
     },
     "execution_count": 18,
     "metadata": {},
     "output_type": "execute_result"
    }
   ],
   "source": [
    "data_eda[\"grouped_topics\"].value_counts()"
   ]
  },
  {
   "cell_type": "code",
   "execution_count": 19,
   "id": "efdac463",
   "metadata": {},
   "outputs": [
    {
     "name": "stdout",
     "output_type": "stream",
     "text": [
      "<class 'pandas.core.frame.DataFrame'>\n",
      "RangeIndex: 4005 entries, 0 to 4004\n",
      "Data columns (total 9 columns):\n",
      " #   Column          Non-Null Count  Dtype  \n",
      "---  ------          --------------  -----  \n",
      " 0   title           4005 non-null   object \n",
      " 1   views           4005 non-null   int64  \n",
      " 2   comments        3350 non-null   float64\n",
      " 3   duration        4005 non-null   int64  \n",
      " 4   topics          4005 non-null   object \n",
      " 5   transcript      4005 non-null   object \n",
      " 6   grouped_topics  4005 non-null   object \n",
      " 7   clean_scripts   4005 non-null   object \n",
      " 8   words           4005 non-null   object \n",
      "dtypes: float64(1), int64(2), object(6)\n",
      "memory usage: 281.7+ KB\n"
     ]
    }
   ],
   "source": [
    "data_eda.info()"
   ]
  },
  {
   "attachments": {},
   "cell_type": "markdown",
   "id": "1987f90e",
   "metadata": {},
   "source": [
    "tfidf --> clean_script \n",
    "ohe --> all of the words \n",
    "ohe --> grouped topics \n",
    "standardize --> duration \n",
    "standardize --> views\n",
    "standardize --> comments"
   ]
  },
  {
   "cell_type": "code",
   "execution_count": 20,
   "id": "06b2e4e8",
   "metadata": {},
   "outputs": [],
   "source": [
    "df_count = pd.Series(keywords).to_frame().reset_index().rename(columns = {\"index\": \"category\", 0:\"count\"})\n",
    "\n",
    "df_count = df_count[df_count[\"count\"] >= 50]\n",
    "total_count = df_count.shape[0]\n",
    "\n",
    "lst = []\n",
    "for i in range(0, total_count, 39):\n",
    "    df_cut = df_count.iloc[i: i+ 39]\n",
    "    lst.append(df_cut)"
   ]
  },
  {
   "cell_type": "code",
   "execution_count": 21,
   "id": "808d4fae",
   "metadata": {
    "scrolled": true
   },
   "outputs": [],
   "source": [
    "# np.array(data_eda[\"clean_scripts\"])"
   ]
  },
  {
   "cell_type": "code",
   "execution_count": 22,
   "id": "a8ff919a",
   "metadata": {},
   "outputs": [],
   "source": [
    "from sklearn.pipeline import make_pipeline, FeatureUnion\n",
    "from sklearn.naive_bayes import GaussianNB\n",
    "from sklearn.svm import LinearSVC\n",
    "from sklearn.svm import SVC\n",
    "from sklearn.linear_model import SGDClassifier"
   ]
  },
  {
   "cell_type": "code",
   "execution_count": 23,
   "id": "9762b0c0",
   "metadata": {
    "scrolled": false
   },
   "outputs": [],
   "source": [
    "X = data_eda.fillna(0)\n",
    "y = data_eda[\"grouped_topics\"]\n",
    "\n",
    "X_train, X_test, y_train, y_test = train_test_split(X, y, test_size = 0.25) \n",
    "\n",
    "preproc = ColumnTransformer(\n",
    "    transformers = [\n",
    "        (\"tfidf\", TfidfVectorizer(stop_words = \"english\"), \"clean_scripts\"), # only need to be taken in a series\n",
    "        #('std_views', StandardScaler(), [\"views\"]), \n",
    "        #('std_comments', StandardScaler(), [\"comments\"])\n",
    "    ],\n",
    "    remainder = \"drop\"\n",
    ")\n",
    "\n",
    "# basic idea is to weight each category evenly so they have an even \n",
    "# weight*proportion=1 so the model can guess all categories\n",
    "props = (y_train.value_counts()/len(y_train))\n",
    "weights = {'activism':1/props['activism'], \n",
    "                 'business':1/props['business'], \n",
    "                 'culture':1/props['culture'], \n",
    "                 'history':1/props['history'], \n",
    "                 'not-relevant':1/props['not-relevant'], \n",
    "                 'stem':1/props['stem']}\n",
    "\n",
    "nb_pipeline = Pipeline([\n",
    "    ('preprocessor', preproc),\n",
    "    ('classifier', LinearSVC(C = 5,\n",
    "                            class_weight = weights))\n",
    "])\n",
    "\n",
    "pl_pipeline = Pipeline([ \n",
    "    ('preproc', preproc),\n",
    "    (\"dec_tree\", DecisionTreeClassifier(max_depth = 8, min_samples_split = 8))\n",
    "])\n",
    "\n",
    "svc_pipeline = Pipeline([\n",
    "    ('preproc', preproc),\n",
    "    ('svc', SVC(gamma='auto', C=5))\n",
    "])\n",
    "\n",
    "sgd_pipeline = Pipeline([\n",
    "    ('preproc', preproc),\n",
    "    ('SGD', SGDClassifier(loss='log_loss', max_iter=5000))\n",
    "])\n",
    "\n",
    "def test_model(model):\n",
    "    model.fit(X_train, y_train)\n",
    "    print(f\"Train accuracy: {accuracy_score(model.predict(X_train), y_train)}\")\n",
    "    print(f\"Test accuracy: {accuracy_score(model.predict(X_test), y_test)}\")\n",
    "    return model\n",
    "\n",
    "#model = test_model(sgd_pipeline)"
   ]
  },
  {
   "attachments": {},
   "cell_type": "markdown",
   "id": "eeaa752e",
   "metadata": {},
   "source": [
    "## problems with current model:\n",
    "guesses too many `stem`: (guessed about 0.45 when it is 0.36) +1.5x<br>\n",
    "guesses too few `not-relavant`: (guessed 0.000998 of 0.037) -37x diff<br>\n",
    "guesses too few `history`(2nd least common): (guessed 0.038 of 0.09) -3x diff<br>\n",
    "these remain decently the same when model run multiple times<br>\n",
    "<br>\n",
    "i tried to change the weights based on these observations but accuracy will prob go down if you change them too much"
   ]
  },
  {
   "cell_type": "code",
   "execution_count": null,
   "id": "da4fd077",
   "metadata": {},
   "outputs": [],
   "source": []
  },
  {
   "cell_type": "code",
   "execution_count": null,
   "id": "fa3d15bc",
   "metadata": {},
   "outputs": [],
   "source": []
  },
  {
   "cell_type": "code",
   "execution_count": null,
   "id": "c5a53dfc",
   "metadata": {},
   "outputs": [],
   "source": []
  },
  {
   "cell_type": "code",
   "execution_count": 25,
   "id": "448b485a",
   "metadata": {},
   "outputs": [],
   "source": [
    "def get_probas(input_str, model):\n",
    "    str_arr = pd.Series(input_str).to_frame()\n",
    "    str_arr = str_arr.rename(columns={0: \"clean_scripts\"})\n",
    "    predictions = model.predict_proba(str_arr)\n",
    "    return predictions, model.predict(str_arr)[0]"
   ]
  },
  {
   "cell_type": "code",
   "execution_count": null,
   "id": "0a4f383d",
   "metadata": {},
   "outputs": [],
   "source": []
  },
  {
   "cell_type": "code",
   "execution_count": null,
   "id": "754f7df4",
   "metadata": {},
   "outputs": [],
   "source": []
  },
  {
   "cell_type": "code",
   "execution_count": null,
   "id": "d97f692e",
   "metadata": {},
   "outputs": [],
   "source": []
  },
  {
   "cell_type": "code",
   "execution_count": null,
   "id": "68f7c603",
   "metadata": {},
   "outputs": [],
   "source": []
  },
  {
   "cell_type": "code",
   "execution_count": 85,
   "id": "a54f25f6",
   "metadata": {},
   "outputs": [],
   "source": [
    "X_train, X_test, y_train, y_test = train_test_split(\n",
    "    data_eda[['clean_scripts', 'grouped_topics', 'views', 'comments', 'duration']], \n",
    "    data_eda['grouped_topics'],\n",
    "    test_size=0.2\n",
    ")\n",
    "X_train, X_test = X_train.fillna(0), X_test.fillna(0)"
   ]
  },
  {
   "cell_type": "code",
   "execution_count": 86,
   "id": "756e1efe",
   "metadata": {},
   "outputs": [
    {
     "name": "stdout",
     "output_type": "stream",
     "text": [
      "0.7471910112359551\n",
      "train\n",
      "0.5468164794007491\n",
      "test\n"
     ]
    }
   ],
   "source": [
    "from sklearn.linear_model import LogisticRegression\n",
    "from sklearn.multiclass import OneVsRestClassifier\n",
    "\n",
    "def draw_graph(y_test, predict_test):\n",
    "    df_draw = y_test.to_frame()\n",
    "    df_draw = df_draw.rename(columns = {\"grouped_topics\":\"actual_topic\"})\n",
    "\n",
    "    check_correct = y_test == predict_test \n",
    "    check_correct = check_correct.apply(lambda x: 1 if x is True else 0)\n",
    "\n",
    "    df_draw[\"correct\"] = check_correct\n",
    "    df_draw = df_draw.groupby(\"actual_topic\").mean().sort_values(by= \"correct\").reset_index()\n",
    "\n",
    "    import plotly.express as px\n",
    "    fig = px.bar(df_draw, \n",
    "                 x='actual_topic', \n",
    "                 y='correct', \n",
    "                 color = \"actual_topic\",\n",
    "                 labels={'actual_topic':'Topic', \"correct\":\"Percentage Correctness\"}, \n",
    "                 title = \"Model Correctness on Test Data\", \n",
    "                 color_discrete_sequence= px.colors.qualitative.G10\n",
    "                )\n",
    "    fig.update_layout(yaxis_range=[0,1])\n",
    "    return fig\n",
    "    \n",
    "logistic_regression = LogisticRegression()\n",
    "classifier = OneVsRestClassifier(logistic_regression)\n",
    "\n",
    "preproc = ColumnTransformer(\n",
    "    transformers = [\n",
    "        (\"tfidf\", TfidfVectorizer(stop_words = \"english\"), \"clean_scripts\"), # only need to be taken in a series\n",
    "        ('std_views', StandardScaler(), [\"views\"]), \n",
    "        ('std_comments', StandardScaler(), [\"comments\"])\n",
    "    ],\n",
    "    remainder = \"drop\"\n",
    ")\n",
    "\n",
    "log_pipeline = Pipeline([\n",
    "    ('preprocessor', preproc),\n",
    "    ('classifier_log', classifier)\n",
    "])\n",
    "\n",
    "log_pipeline.fit(X_train, y_train)\n",
    "predict = log_pipeline.predict(X_train)\n",
    "print ( accuracy_score(y_train, predict)) \n",
    "print (\"train\")\n",
    "\n",
    "predict_test_log = log_pipeline.predict(X_test)\n",
    "print (accuracy_score(y_test, predict_test_log)) \n",
    "print (\"test\")\n",
    "\n",
    "fig = draw_graph(y_test, predict_test_log)"
   ]
  },
  {
   "cell_type": "code",
   "execution_count": 36,
   "id": "9bcd5436",
   "metadata": {},
   "outputs": [
    {
     "data": {
      "application/vnd.plotly.v1+json": {
       "config": {
        "plotlyServerURL": "https://plot.ly"
       },
       "data": [
        {
         "alignmentgroup": "True",
         "hovertemplate": "Topic=%{x}<br>Percentage Correctness=%{y}<extra></extra>",
         "legendgroup": "not-relevant",
         "marker": {
          "color": "#3366CC",
          "pattern": {
           "shape": ""
          }
         },
         "name": "not-relevant",
         "offsetgroup": "not-relevant",
         "orientation": "v",
         "showlegend": true,
         "textposition": "auto",
         "type": "bar",
         "x": [
          "not-relevant"
         ],
         "xaxis": "x",
         "y": [
          0
         ],
         "yaxis": "y"
        },
        {
         "alignmentgroup": "True",
         "hovertemplate": "Topic=%{x}<br>Percentage Correctness=%{y}<extra></extra>",
         "legendgroup": "history",
         "marker": {
          "color": "#DC3912",
          "pattern": {
           "shape": ""
          }
         },
         "name": "history",
         "offsetgroup": "history",
         "orientation": "v",
         "showlegend": true,
         "textposition": "auto",
         "type": "bar",
         "x": [
          "history"
         ],
         "xaxis": "x",
         "y": [
          0.0625
         ],
         "yaxis": "y"
        },
        {
         "alignmentgroup": "True",
         "hovertemplate": "Topic=%{x}<br>Percentage Correctness=%{y}<extra></extra>",
         "legendgroup": "business",
         "marker": {
          "color": "#FF9900",
          "pattern": {
           "shape": ""
          }
         },
         "name": "business",
         "offsetgroup": "business",
         "orientation": "v",
         "showlegend": true,
         "textposition": "auto",
         "type": "bar",
         "x": [
          "business"
         ],
         "xaxis": "x",
         "y": [
          0.13333333333333333
         ],
         "yaxis": "y"
        },
        {
         "alignmentgroup": "True",
         "hovertemplate": "Topic=%{x}<br>Percentage Correctness=%{y}<extra></extra>",
         "legendgroup": "activism",
         "marker": {
          "color": "#109618",
          "pattern": {
           "shape": ""
          }
         },
         "name": "activism",
         "offsetgroup": "activism",
         "orientation": "v",
         "showlegend": true,
         "textposition": "auto",
         "type": "bar",
         "x": [
          "activism"
         ],
         "xaxis": "x",
         "y": [
          0.3696969696969697
         ],
         "yaxis": "y"
        },
        {
         "alignmentgroup": "True",
         "hovertemplate": "Topic=%{x}<br>Percentage Correctness=%{y}<extra></extra>",
         "legendgroup": "culture",
         "marker": {
          "color": "#990099",
          "pattern": {
           "shape": ""
          }
         },
         "name": "culture",
         "offsetgroup": "culture",
         "orientation": "v",
         "showlegend": true,
         "textposition": "auto",
         "type": "bar",
         "x": [
          "culture"
         ],
         "xaxis": "x",
         "y": [
          0.6367713004484304
         ],
         "yaxis": "y"
        },
        {
         "alignmentgroup": "True",
         "hovertemplate": "Topic=%{x}<br>Percentage Correctness=%{y}<extra></extra>",
         "legendgroup": "stem",
         "marker": {
          "color": "#0099C6",
          "pattern": {
           "shape": ""
          }
         },
         "name": "stem",
         "offsetgroup": "stem",
         "orientation": "v",
         "showlegend": true,
         "textposition": "auto",
         "type": "bar",
         "x": [
          "stem"
         ],
         "xaxis": "x",
         "y": [
          0.8927613941018767
         ],
         "yaxis": "y"
        }
       ],
       "layout": {
        "barmode": "relative",
        "legend": {
         "title": {
          "text": "Topic"
         },
         "tracegroupgap": 0
        },
        "template": {
         "data": {
          "bar": [
           {
            "error_x": {
             "color": "#2a3f5f"
            },
            "error_y": {
             "color": "#2a3f5f"
            },
            "marker": {
             "line": {
              "color": "#E5ECF6",
              "width": 0.5
             },
             "pattern": {
              "fillmode": "overlay",
              "size": 10,
              "solidity": 0.2
             }
            },
            "type": "bar"
           }
          ],
          "barpolar": [
           {
            "marker": {
             "line": {
              "color": "#E5ECF6",
              "width": 0.5
             },
             "pattern": {
              "fillmode": "overlay",
              "size": 10,
              "solidity": 0.2
             }
            },
            "type": "barpolar"
           }
          ],
          "carpet": [
           {
            "aaxis": {
             "endlinecolor": "#2a3f5f",
             "gridcolor": "white",
             "linecolor": "white",
             "minorgridcolor": "white",
             "startlinecolor": "#2a3f5f"
            },
            "baxis": {
             "endlinecolor": "#2a3f5f",
             "gridcolor": "white",
             "linecolor": "white",
             "minorgridcolor": "white",
             "startlinecolor": "#2a3f5f"
            },
            "type": "carpet"
           }
          ],
          "choropleth": [
           {
            "colorbar": {
             "outlinewidth": 0,
             "ticks": ""
            },
            "type": "choropleth"
           }
          ],
          "contour": [
           {
            "colorbar": {
             "outlinewidth": 0,
             "ticks": ""
            },
            "colorscale": [
             [
              0,
              "#0d0887"
             ],
             [
              0.1111111111111111,
              "#46039f"
             ],
             [
              0.2222222222222222,
              "#7201a8"
             ],
             [
              0.3333333333333333,
              "#9c179e"
             ],
             [
              0.4444444444444444,
              "#bd3786"
             ],
             [
              0.5555555555555556,
              "#d8576b"
             ],
             [
              0.6666666666666666,
              "#ed7953"
             ],
             [
              0.7777777777777778,
              "#fb9f3a"
             ],
             [
              0.8888888888888888,
              "#fdca26"
             ],
             [
              1,
              "#f0f921"
             ]
            ],
            "type": "contour"
           }
          ],
          "contourcarpet": [
           {
            "colorbar": {
             "outlinewidth": 0,
             "ticks": ""
            },
            "type": "contourcarpet"
           }
          ],
          "heatmap": [
           {
            "colorbar": {
             "outlinewidth": 0,
             "ticks": ""
            },
            "colorscale": [
             [
              0,
              "#0d0887"
             ],
             [
              0.1111111111111111,
              "#46039f"
             ],
             [
              0.2222222222222222,
              "#7201a8"
             ],
             [
              0.3333333333333333,
              "#9c179e"
             ],
             [
              0.4444444444444444,
              "#bd3786"
             ],
             [
              0.5555555555555556,
              "#d8576b"
             ],
             [
              0.6666666666666666,
              "#ed7953"
             ],
             [
              0.7777777777777778,
              "#fb9f3a"
             ],
             [
              0.8888888888888888,
              "#fdca26"
             ],
             [
              1,
              "#f0f921"
             ]
            ],
            "type": "heatmap"
           }
          ],
          "heatmapgl": [
           {
            "colorbar": {
             "outlinewidth": 0,
             "ticks": ""
            },
            "colorscale": [
             [
              0,
              "#0d0887"
             ],
             [
              0.1111111111111111,
              "#46039f"
             ],
             [
              0.2222222222222222,
              "#7201a8"
             ],
             [
              0.3333333333333333,
              "#9c179e"
             ],
             [
              0.4444444444444444,
              "#bd3786"
             ],
             [
              0.5555555555555556,
              "#d8576b"
             ],
             [
              0.6666666666666666,
              "#ed7953"
             ],
             [
              0.7777777777777778,
              "#fb9f3a"
             ],
             [
              0.8888888888888888,
              "#fdca26"
             ],
             [
              1,
              "#f0f921"
             ]
            ],
            "type": "heatmapgl"
           }
          ],
          "histogram": [
           {
            "marker": {
             "pattern": {
              "fillmode": "overlay",
              "size": 10,
              "solidity": 0.2
             }
            },
            "type": "histogram"
           }
          ],
          "histogram2d": [
           {
            "colorbar": {
             "outlinewidth": 0,
             "ticks": ""
            },
            "colorscale": [
             [
              0,
              "#0d0887"
             ],
             [
              0.1111111111111111,
              "#46039f"
             ],
             [
              0.2222222222222222,
              "#7201a8"
             ],
             [
              0.3333333333333333,
              "#9c179e"
             ],
             [
              0.4444444444444444,
              "#bd3786"
             ],
             [
              0.5555555555555556,
              "#d8576b"
             ],
             [
              0.6666666666666666,
              "#ed7953"
             ],
             [
              0.7777777777777778,
              "#fb9f3a"
             ],
             [
              0.8888888888888888,
              "#fdca26"
             ],
             [
              1,
              "#f0f921"
             ]
            ],
            "type": "histogram2d"
           }
          ],
          "histogram2dcontour": [
           {
            "colorbar": {
             "outlinewidth": 0,
             "ticks": ""
            },
            "colorscale": [
             [
              0,
              "#0d0887"
             ],
             [
              0.1111111111111111,
              "#46039f"
             ],
             [
              0.2222222222222222,
              "#7201a8"
             ],
             [
              0.3333333333333333,
              "#9c179e"
             ],
             [
              0.4444444444444444,
              "#bd3786"
             ],
             [
              0.5555555555555556,
              "#d8576b"
             ],
             [
              0.6666666666666666,
              "#ed7953"
             ],
             [
              0.7777777777777778,
              "#fb9f3a"
             ],
             [
              0.8888888888888888,
              "#fdca26"
             ],
             [
              1,
              "#f0f921"
             ]
            ],
            "type": "histogram2dcontour"
           }
          ],
          "mesh3d": [
           {
            "colorbar": {
             "outlinewidth": 0,
             "ticks": ""
            },
            "type": "mesh3d"
           }
          ],
          "parcoords": [
           {
            "line": {
             "colorbar": {
              "outlinewidth": 0,
              "ticks": ""
             }
            },
            "type": "parcoords"
           }
          ],
          "pie": [
           {
            "automargin": true,
            "type": "pie"
           }
          ],
          "scatter": [
           {
            "fillpattern": {
             "fillmode": "overlay",
             "size": 10,
             "solidity": 0.2
            },
            "type": "scatter"
           }
          ],
          "scatter3d": [
           {
            "line": {
             "colorbar": {
              "outlinewidth": 0,
              "ticks": ""
             }
            },
            "marker": {
             "colorbar": {
              "outlinewidth": 0,
              "ticks": ""
             }
            },
            "type": "scatter3d"
           }
          ],
          "scattercarpet": [
           {
            "marker": {
             "colorbar": {
              "outlinewidth": 0,
              "ticks": ""
             }
            },
            "type": "scattercarpet"
           }
          ],
          "scattergeo": [
           {
            "marker": {
             "colorbar": {
              "outlinewidth": 0,
              "ticks": ""
             }
            },
            "type": "scattergeo"
           }
          ],
          "scattergl": [
           {
            "marker": {
             "colorbar": {
              "outlinewidth": 0,
              "ticks": ""
             }
            },
            "type": "scattergl"
           }
          ],
          "scattermapbox": [
           {
            "marker": {
             "colorbar": {
              "outlinewidth": 0,
              "ticks": ""
             }
            },
            "type": "scattermapbox"
           }
          ],
          "scatterpolar": [
           {
            "marker": {
             "colorbar": {
              "outlinewidth": 0,
              "ticks": ""
             }
            },
            "type": "scatterpolar"
           }
          ],
          "scatterpolargl": [
           {
            "marker": {
             "colorbar": {
              "outlinewidth": 0,
              "ticks": ""
             }
            },
            "type": "scatterpolargl"
           }
          ],
          "scatterternary": [
           {
            "marker": {
             "colorbar": {
              "outlinewidth": 0,
              "ticks": ""
             }
            },
            "type": "scatterternary"
           }
          ],
          "surface": [
           {
            "colorbar": {
             "outlinewidth": 0,
             "ticks": ""
            },
            "colorscale": [
             [
              0,
              "#0d0887"
             ],
             [
              0.1111111111111111,
              "#46039f"
             ],
             [
              0.2222222222222222,
              "#7201a8"
             ],
             [
              0.3333333333333333,
              "#9c179e"
             ],
             [
              0.4444444444444444,
              "#bd3786"
             ],
             [
              0.5555555555555556,
              "#d8576b"
             ],
             [
              0.6666666666666666,
              "#ed7953"
             ],
             [
              0.7777777777777778,
              "#fb9f3a"
             ],
             [
              0.8888888888888888,
              "#fdca26"
             ],
             [
              1,
              "#f0f921"
             ]
            ],
            "type": "surface"
           }
          ],
          "table": [
           {
            "cells": {
             "fill": {
              "color": "#EBF0F8"
             },
             "line": {
              "color": "white"
             }
            },
            "header": {
             "fill": {
              "color": "#C8D4E3"
             },
             "line": {
              "color": "white"
             }
            },
            "type": "table"
           }
          ]
         },
         "layout": {
          "annotationdefaults": {
           "arrowcolor": "#2a3f5f",
           "arrowhead": 0,
           "arrowwidth": 1
          },
          "autotypenumbers": "strict",
          "coloraxis": {
           "colorbar": {
            "outlinewidth": 0,
            "ticks": ""
           }
          },
          "colorscale": {
           "diverging": [
            [
             0,
             "#8e0152"
            ],
            [
             0.1,
             "#c51b7d"
            ],
            [
             0.2,
             "#de77ae"
            ],
            [
             0.3,
             "#f1b6da"
            ],
            [
             0.4,
             "#fde0ef"
            ],
            [
             0.5,
             "#f7f7f7"
            ],
            [
             0.6,
             "#e6f5d0"
            ],
            [
             0.7,
             "#b8e186"
            ],
            [
             0.8,
             "#7fbc41"
            ],
            [
             0.9,
             "#4d9221"
            ],
            [
             1,
             "#276419"
            ]
           ],
           "sequential": [
            [
             0,
             "#0d0887"
            ],
            [
             0.1111111111111111,
             "#46039f"
            ],
            [
             0.2222222222222222,
             "#7201a8"
            ],
            [
             0.3333333333333333,
             "#9c179e"
            ],
            [
             0.4444444444444444,
             "#bd3786"
            ],
            [
             0.5555555555555556,
             "#d8576b"
            ],
            [
             0.6666666666666666,
             "#ed7953"
            ],
            [
             0.7777777777777778,
             "#fb9f3a"
            ],
            [
             0.8888888888888888,
             "#fdca26"
            ],
            [
             1,
             "#f0f921"
            ]
           ],
           "sequentialminus": [
            [
             0,
             "#0d0887"
            ],
            [
             0.1111111111111111,
             "#46039f"
            ],
            [
             0.2222222222222222,
             "#7201a8"
            ],
            [
             0.3333333333333333,
             "#9c179e"
            ],
            [
             0.4444444444444444,
             "#bd3786"
            ],
            [
             0.5555555555555556,
             "#d8576b"
            ],
            [
             0.6666666666666666,
             "#ed7953"
            ],
            [
             0.7777777777777778,
             "#fb9f3a"
            ],
            [
             0.8888888888888888,
             "#fdca26"
            ],
            [
             1,
             "#f0f921"
            ]
           ]
          },
          "colorway": [
           "#636efa",
           "#EF553B",
           "#00cc96",
           "#ab63fa",
           "#FFA15A",
           "#19d3f3",
           "#FF6692",
           "#B6E880",
           "#FF97FF",
           "#FECB52"
          ],
          "font": {
           "color": "#2a3f5f"
          },
          "geo": {
           "bgcolor": "white",
           "lakecolor": "white",
           "landcolor": "#E5ECF6",
           "showlakes": true,
           "showland": true,
           "subunitcolor": "white"
          },
          "hoverlabel": {
           "align": "left"
          },
          "hovermode": "closest",
          "mapbox": {
           "style": "light"
          },
          "paper_bgcolor": "white",
          "plot_bgcolor": "#E5ECF6",
          "polar": {
           "angularaxis": {
            "gridcolor": "white",
            "linecolor": "white",
            "ticks": ""
           },
           "bgcolor": "#E5ECF6",
           "radialaxis": {
            "gridcolor": "white",
            "linecolor": "white",
            "ticks": ""
           }
          },
          "scene": {
           "xaxis": {
            "backgroundcolor": "#E5ECF6",
            "gridcolor": "white",
            "gridwidth": 2,
            "linecolor": "white",
            "showbackground": true,
            "ticks": "",
            "zerolinecolor": "white"
           },
           "yaxis": {
            "backgroundcolor": "#E5ECF6",
            "gridcolor": "white",
            "gridwidth": 2,
            "linecolor": "white",
            "showbackground": true,
            "ticks": "",
            "zerolinecolor": "white"
           },
           "zaxis": {
            "backgroundcolor": "#E5ECF6",
            "gridcolor": "white",
            "gridwidth": 2,
            "linecolor": "white",
            "showbackground": true,
            "ticks": "",
            "zerolinecolor": "white"
           }
          },
          "shapedefaults": {
           "line": {
            "color": "#2a3f5f"
           }
          },
          "ternary": {
           "aaxis": {
            "gridcolor": "white",
            "linecolor": "white",
            "ticks": ""
           },
           "baxis": {
            "gridcolor": "white",
            "linecolor": "white",
            "ticks": ""
           },
           "bgcolor": "#E5ECF6",
           "caxis": {
            "gridcolor": "white",
            "linecolor": "white",
            "ticks": ""
           }
          },
          "title": {
           "x": 0.05
          },
          "xaxis": {
           "automargin": true,
           "gridcolor": "white",
           "linecolor": "white",
           "ticks": "",
           "title": {
            "standoff": 15
           },
           "zerolinecolor": "white",
           "zerolinewidth": 2
          },
          "yaxis": {
           "automargin": true,
           "gridcolor": "white",
           "linecolor": "white",
           "ticks": "",
           "title": {
            "standoff": 15
           },
           "zerolinecolor": "white",
           "zerolinewidth": 2
          }
         }
        },
        "title": {
         "text": "Model Correctness on Test Data"
        },
        "xaxis": {
         "anchor": "y",
         "categoryarray": [
          "not-relevant",
          "history",
          "business",
          "activism",
          "culture",
          "stem"
         ],
         "categoryorder": "array",
         "domain": [
          0,
          1
         ],
         "title": {
          "text": "Topic"
         }
        },
        "yaxis": {
         "anchor": "x",
         "domain": [
          0,
          1
         ],
         "range": [
          0,
          1
         ],
         "title": {
          "text": "Percentage Correctness"
         }
        }
       }
      }
     },
     "metadata": {},
     "output_type": "display_data"
    }
   ],
   "source": [
    "log_pipeline.predict(pd.DataFrame.from_dict({'clean_scripts': ['hello there']}))\n",
    "fig.show()"
   ]
  },
  {
   "cell_type": "code",
   "execution_count": null,
   "id": "879260f7",
   "metadata": {},
   "outputs": [],
   "source": []
  },
  {
   "cell_type": "code",
   "execution_count": null,
   "id": "eddb760f",
   "metadata": {},
   "outputs": [],
   "source": []
  },
  {
   "cell_type": "code",
   "execution_count": 71,
   "id": "7c926086",
   "metadata": {},
   "outputs": [
    {
     "data": {
      "text/plain": [
       "0.5493133583021224"
      ]
     },
     "execution_count": 71,
     "metadata": {},
     "output_type": "execute_result"
    }
   ],
   "source": [
    "preproc = ColumnTransformer(\n",
    "    transformers = [\n",
    "        (\"tfidf\", TfidfVectorizer(stop_words = \"english\"), \"clean_scripts\"), # only need to be taken in a series\n",
    "        ('std_views', StandardScaler(), [\"views\"]), \n",
    "        ('std_comments', StandardScaler(), [\"duration\"]),\n",
    "    ],\n",
    "    remainder = \"drop\"\n",
    ")\n",
    "\n",
    "ovr_classifier = Pipeline([\n",
    "    ('preprocessor', preproc),\n",
    "    ('classifier', OneVsRestClassifier(LinearSVC(C = 0.08,\n",
    "                        multi_class ='ovr')))])\n",
    "\n",
    "ovr_classifier.fit(X_train, y_train)\n",
    "predict = ovr_classifier.predict(X_train)\n",
    "accuracy_score(y_train, predict)\n",
    "predict_test_ovr = ovr_classifier.predict(X_test)\n",
    "accuracy_score(y_test, predict_test_ovr)\n",
    "#fig = draw_graph(y_test, predict_test_ovr)"
   ]
  },
  {
   "attachments": {},
   "cell_type": "markdown",
   "id": "31cb86d1",
   "metadata": {},
   "source": []
  },
  {
   "cell_type": "code",
   "execution_count": 69,
   "id": "e9af3f7e",
   "metadata": {},
   "outputs": [
    {
     "data": {
      "text/plain": [
       "((3204, 5), (3204,))"
      ]
     },
     "execution_count": 69,
     "metadata": {},
     "output_type": "execute_result"
    }
   ],
   "source": [
    "X_train.shape, y_train.shape"
   ]
  },
  {
   "cell_type": "code",
   "execution_count": 87,
   "id": "37e7837b",
   "metadata": {},
   "outputs": [
    {
     "data": {
      "application/vnd.plotly.v1+json": {
       "config": {
        "plotlyServerURL": "https://plot.ly"
       },
       "data": [
        {
         "name": "Train Accuracy",
         "type": "bar",
         "x": [
          "stem",
          "activism",
          "culture",
          "business",
          "history"
         ],
         "y": [
          0.9655765920826161,
          0.7375478927203065,
          0.8298153034300791,
          0.40625,
          0.4020979020979021
         ]
        },
        {
         "name": "Test Accuracy",
         "type": "bar",
         "x": [
          "stem",
          "activism",
          "culture",
          "business",
          "history"
         ],
         "y": [
          0.8869257950530035,
          0.42142857142857143,
          0.6170212765957447,
          0.10752688172043011,
          0.02857142857142857
         ]
        }
       ],
       "layout": {
        "barmode": "group",
        "template": {
         "data": {
          "bar": [
           {
            "error_x": {
             "color": "#2a3f5f"
            },
            "error_y": {
             "color": "#2a3f5f"
            },
            "marker": {
             "line": {
              "color": "#E5ECF6",
              "width": 0.5
             },
             "pattern": {
              "fillmode": "overlay",
              "size": 10,
              "solidity": 0.2
             }
            },
            "type": "bar"
           }
          ],
          "barpolar": [
           {
            "marker": {
             "line": {
              "color": "#E5ECF6",
              "width": 0.5
             },
             "pattern": {
              "fillmode": "overlay",
              "size": 10,
              "solidity": 0.2
             }
            },
            "type": "barpolar"
           }
          ],
          "carpet": [
           {
            "aaxis": {
             "endlinecolor": "#2a3f5f",
             "gridcolor": "white",
             "linecolor": "white",
             "minorgridcolor": "white",
             "startlinecolor": "#2a3f5f"
            },
            "baxis": {
             "endlinecolor": "#2a3f5f",
             "gridcolor": "white",
             "linecolor": "white",
             "minorgridcolor": "white",
             "startlinecolor": "#2a3f5f"
            },
            "type": "carpet"
           }
          ],
          "choropleth": [
           {
            "colorbar": {
             "outlinewidth": 0,
             "ticks": ""
            },
            "type": "choropleth"
           }
          ],
          "contour": [
           {
            "colorbar": {
             "outlinewidth": 0,
             "ticks": ""
            },
            "colorscale": [
             [
              0,
              "#0d0887"
             ],
             [
              0.1111111111111111,
              "#46039f"
             ],
             [
              0.2222222222222222,
              "#7201a8"
             ],
             [
              0.3333333333333333,
              "#9c179e"
             ],
             [
              0.4444444444444444,
              "#bd3786"
             ],
             [
              0.5555555555555556,
              "#d8576b"
             ],
             [
              0.6666666666666666,
              "#ed7953"
             ],
             [
              0.7777777777777778,
              "#fb9f3a"
             ],
             [
              0.8888888888888888,
              "#fdca26"
             ],
             [
              1,
              "#f0f921"
             ]
            ],
            "type": "contour"
           }
          ],
          "contourcarpet": [
           {
            "colorbar": {
             "outlinewidth": 0,
             "ticks": ""
            },
            "type": "contourcarpet"
           }
          ],
          "heatmap": [
           {
            "colorbar": {
             "outlinewidth": 0,
             "ticks": ""
            },
            "colorscale": [
             [
              0,
              "#0d0887"
             ],
             [
              0.1111111111111111,
              "#46039f"
             ],
             [
              0.2222222222222222,
              "#7201a8"
             ],
             [
              0.3333333333333333,
              "#9c179e"
             ],
             [
              0.4444444444444444,
              "#bd3786"
             ],
             [
              0.5555555555555556,
              "#d8576b"
             ],
             [
              0.6666666666666666,
              "#ed7953"
             ],
             [
              0.7777777777777778,
              "#fb9f3a"
             ],
             [
              0.8888888888888888,
              "#fdca26"
             ],
             [
              1,
              "#f0f921"
             ]
            ],
            "type": "heatmap"
           }
          ],
          "heatmapgl": [
           {
            "colorbar": {
             "outlinewidth": 0,
             "ticks": ""
            },
            "colorscale": [
             [
              0,
              "#0d0887"
             ],
             [
              0.1111111111111111,
              "#46039f"
             ],
             [
              0.2222222222222222,
              "#7201a8"
             ],
             [
              0.3333333333333333,
              "#9c179e"
             ],
             [
              0.4444444444444444,
              "#bd3786"
             ],
             [
              0.5555555555555556,
              "#d8576b"
             ],
             [
              0.6666666666666666,
              "#ed7953"
             ],
             [
              0.7777777777777778,
              "#fb9f3a"
             ],
             [
              0.8888888888888888,
              "#fdca26"
             ],
             [
              1,
              "#f0f921"
             ]
            ],
            "type": "heatmapgl"
           }
          ],
          "histogram": [
           {
            "marker": {
             "pattern": {
              "fillmode": "overlay",
              "size": 10,
              "solidity": 0.2
             }
            },
            "type": "histogram"
           }
          ],
          "histogram2d": [
           {
            "colorbar": {
             "outlinewidth": 0,
             "ticks": ""
            },
            "colorscale": [
             [
              0,
              "#0d0887"
             ],
             [
              0.1111111111111111,
              "#46039f"
             ],
             [
              0.2222222222222222,
              "#7201a8"
             ],
             [
              0.3333333333333333,
              "#9c179e"
             ],
             [
              0.4444444444444444,
              "#bd3786"
             ],
             [
              0.5555555555555556,
              "#d8576b"
             ],
             [
              0.6666666666666666,
              "#ed7953"
             ],
             [
              0.7777777777777778,
              "#fb9f3a"
             ],
             [
              0.8888888888888888,
              "#fdca26"
             ],
             [
              1,
              "#f0f921"
             ]
            ],
            "type": "histogram2d"
           }
          ],
          "histogram2dcontour": [
           {
            "colorbar": {
             "outlinewidth": 0,
             "ticks": ""
            },
            "colorscale": [
             [
              0,
              "#0d0887"
             ],
             [
              0.1111111111111111,
              "#46039f"
             ],
             [
              0.2222222222222222,
              "#7201a8"
             ],
             [
              0.3333333333333333,
              "#9c179e"
             ],
             [
              0.4444444444444444,
              "#bd3786"
             ],
             [
              0.5555555555555556,
              "#d8576b"
             ],
             [
              0.6666666666666666,
              "#ed7953"
             ],
             [
              0.7777777777777778,
              "#fb9f3a"
             ],
             [
              0.8888888888888888,
              "#fdca26"
             ],
             [
              1,
              "#f0f921"
             ]
            ],
            "type": "histogram2dcontour"
           }
          ],
          "mesh3d": [
           {
            "colorbar": {
             "outlinewidth": 0,
             "ticks": ""
            },
            "type": "mesh3d"
           }
          ],
          "parcoords": [
           {
            "line": {
             "colorbar": {
              "outlinewidth": 0,
              "ticks": ""
             }
            },
            "type": "parcoords"
           }
          ],
          "pie": [
           {
            "automargin": true,
            "type": "pie"
           }
          ],
          "scatter": [
           {
            "fillpattern": {
             "fillmode": "overlay",
             "size": 10,
             "solidity": 0.2
            },
            "type": "scatter"
           }
          ],
          "scatter3d": [
           {
            "line": {
             "colorbar": {
              "outlinewidth": 0,
              "ticks": ""
             }
            },
            "marker": {
             "colorbar": {
              "outlinewidth": 0,
              "ticks": ""
             }
            },
            "type": "scatter3d"
           }
          ],
          "scattercarpet": [
           {
            "marker": {
             "colorbar": {
              "outlinewidth": 0,
              "ticks": ""
             }
            },
            "type": "scattercarpet"
           }
          ],
          "scattergeo": [
           {
            "marker": {
             "colorbar": {
              "outlinewidth": 0,
              "ticks": ""
             }
            },
            "type": "scattergeo"
           }
          ],
          "scattergl": [
           {
            "marker": {
             "colorbar": {
              "outlinewidth": 0,
              "ticks": ""
             }
            },
            "type": "scattergl"
           }
          ],
          "scattermapbox": [
           {
            "marker": {
             "colorbar": {
              "outlinewidth": 0,
              "ticks": ""
             }
            },
            "type": "scattermapbox"
           }
          ],
          "scatterpolar": [
           {
            "marker": {
             "colorbar": {
              "outlinewidth": 0,
              "ticks": ""
             }
            },
            "type": "scatterpolar"
           }
          ],
          "scatterpolargl": [
           {
            "marker": {
             "colorbar": {
              "outlinewidth": 0,
              "ticks": ""
             }
            },
            "type": "scatterpolargl"
           }
          ],
          "scatterternary": [
           {
            "marker": {
             "colorbar": {
              "outlinewidth": 0,
              "ticks": ""
             }
            },
            "type": "scatterternary"
           }
          ],
          "surface": [
           {
            "colorbar": {
             "outlinewidth": 0,
             "ticks": ""
            },
            "colorscale": [
             [
              0,
              "#0d0887"
             ],
             [
              0.1111111111111111,
              "#46039f"
             ],
             [
              0.2222222222222222,
              "#7201a8"
             ],
             [
              0.3333333333333333,
              "#9c179e"
             ],
             [
              0.4444444444444444,
              "#bd3786"
             ],
             [
              0.5555555555555556,
              "#d8576b"
             ],
             [
              0.6666666666666666,
              "#ed7953"
             ],
             [
              0.7777777777777778,
              "#fb9f3a"
             ],
             [
              0.8888888888888888,
              "#fdca26"
             ],
             [
              1,
              "#f0f921"
             ]
            ],
            "type": "surface"
           }
          ],
          "table": [
           {
            "cells": {
             "fill": {
              "color": "#EBF0F8"
             },
             "line": {
              "color": "white"
             }
            },
            "header": {
             "fill": {
              "color": "#C8D4E3"
             },
             "line": {
              "color": "white"
             }
            },
            "type": "table"
           }
          ]
         },
         "layout": {
          "annotationdefaults": {
           "arrowcolor": "#2a3f5f",
           "arrowhead": 0,
           "arrowwidth": 1
          },
          "autotypenumbers": "strict",
          "coloraxis": {
           "colorbar": {
            "outlinewidth": 0,
            "ticks": ""
           }
          },
          "colorscale": {
           "diverging": [
            [
             0,
             "#8e0152"
            ],
            [
             0.1,
             "#c51b7d"
            ],
            [
             0.2,
             "#de77ae"
            ],
            [
             0.3,
             "#f1b6da"
            ],
            [
             0.4,
             "#fde0ef"
            ],
            [
             0.5,
             "#f7f7f7"
            ],
            [
             0.6,
             "#e6f5d0"
            ],
            [
             0.7,
             "#b8e186"
            ],
            [
             0.8,
             "#7fbc41"
            ],
            [
             0.9,
             "#4d9221"
            ],
            [
             1,
             "#276419"
            ]
           ],
           "sequential": [
            [
             0,
             "#0d0887"
            ],
            [
             0.1111111111111111,
             "#46039f"
            ],
            [
             0.2222222222222222,
             "#7201a8"
            ],
            [
             0.3333333333333333,
             "#9c179e"
            ],
            [
             0.4444444444444444,
             "#bd3786"
            ],
            [
             0.5555555555555556,
             "#d8576b"
            ],
            [
             0.6666666666666666,
             "#ed7953"
            ],
            [
             0.7777777777777778,
             "#fb9f3a"
            ],
            [
             0.8888888888888888,
             "#fdca26"
            ],
            [
             1,
             "#f0f921"
            ]
           ],
           "sequentialminus": [
            [
             0,
             "#0d0887"
            ],
            [
             0.1111111111111111,
             "#46039f"
            ],
            [
             0.2222222222222222,
             "#7201a8"
            ],
            [
             0.3333333333333333,
             "#9c179e"
            ],
            [
             0.4444444444444444,
             "#bd3786"
            ],
            [
             0.5555555555555556,
             "#d8576b"
            ],
            [
             0.6666666666666666,
             "#ed7953"
            ],
            [
             0.7777777777777778,
             "#fb9f3a"
            ],
            [
             0.8888888888888888,
             "#fdca26"
            ],
            [
             1,
             "#f0f921"
            ]
           ]
          },
          "colorway": [
           "#636efa",
           "#EF553B",
           "#00cc96",
           "#ab63fa",
           "#FFA15A",
           "#19d3f3",
           "#FF6692",
           "#B6E880",
           "#FF97FF",
           "#FECB52"
          ],
          "font": {
           "color": "#2a3f5f"
          },
          "geo": {
           "bgcolor": "white",
           "lakecolor": "white",
           "landcolor": "#E5ECF6",
           "showlakes": true,
           "showland": true,
           "subunitcolor": "white"
          },
          "hoverlabel": {
           "align": "left"
          },
          "hovermode": "closest",
          "mapbox": {
           "style": "light"
          },
          "paper_bgcolor": "white",
          "plot_bgcolor": "#E5ECF6",
          "polar": {
           "angularaxis": {
            "gridcolor": "white",
            "linecolor": "white",
            "ticks": ""
           },
           "bgcolor": "#E5ECF6",
           "radialaxis": {
            "gridcolor": "white",
            "linecolor": "white",
            "ticks": ""
           }
          },
          "scene": {
           "xaxis": {
            "backgroundcolor": "#E5ECF6",
            "gridcolor": "white",
            "gridwidth": 2,
            "linecolor": "white",
            "showbackground": true,
            "ticks": "",
            "zerolinecolor": "white"
           },
           "yaxis": {
            "backgroundcolor": "#E5ECF6",
            "gridcolor": "white",
            "gridwidth": 2,
            "linecolor": "white",
            "showbackground": true,
            "ticks": "",
            "zerolinecolor": "white"
           },
           "zaxis": {
            "backgroundcolor": "#E5ECF6",
            "gridcolor": "white",
            "gridwidth": 2,
            "linecolor": "white",
            "showbackground": true,
            "ticks": "",
            "zerolinecolor": "white"
           }
          },
          "shapedefaults": {
           "line": {
            "color": "#2a3f5f"
           }
          },
          "ternary": {
           "aaxis": {
            "gridcolor": "white",
            "linecolor": "white",
            "ticks": ""
           },
           "baxis": {
            "gridcolor": "white",
            "linecolor": "white",
            "ticks": ""
           },
           "bgcolor": "#E5ECF6",
           "caxis": {
            "gridcolor": "white",
            "linecolor": "white",
            "ticks": ""
           }
          },
          "title": {
           "x": 0.05
          },
          "xaxis": {
           "automargin": true,
           "gridcolor": "white",
           "linecolor": "white",
           "ticks": "",
           "title": {
            "standoff": 15
           },
           "zerolinecolor": "white",
           "zerolinewidth": 2
          },
          "yaxis": {
           "automargin": true,
           "gridcolor": "white",
           "linecolor": "white",
           "ticks": "",
           "title": {
            "standoff": 15
           },
           "zerolinecolor": "white",
           "zerolinewidth": 2
          }
         }
        },
        "title": {
         "text": "Train Accuracy vs Test Accuracy"
        },
        "xaxis": {
         "title": {
          "text": "Topics"
         }
        },
        "yaxis": {
         "title": {
          "text": "Accuracies"
         }
        }
       }
      }
     },
     "metadata": {},
     "output_type": "display_data"
    }
   ],
   "source": [
    "import plotly.graph_objects as go\n",
    "train_accuracy = {}\n",
    "test_accuracy = {}\n",
    "model = log_pipeline\n",
    "for topic in y_train.unique():\n",
    "    if topic == 'not-relevant':\n",
    "        continue\n",
    "    topic_specific = X_train['grouped_topics'] == topic\n",
    "    train_accuracy[topic] = model.score(X_train[topic_specific], y_train[topic_specific])\n",
    "    topic_specific = X_test['grouped_topics'] == topic\n",
    "    test_accuracy[topic] = model.score(X_test[topic_specific], y_test[topic_specific])\n",
    "\n",
    "topics = list(train_accuracy.keys())\n",
    "train_scores = list(train_accuracy.values())\n",
    "test_scores = list(test_accuracy.values())\n",
    "\n",
    "keys = list(train_accuracy.keys())\n",
    "train_values = list(train_accuracy.values())\n",
    "test_values = list(test_accuracy.values())\n",
    "fig = go.Figure(data=[\n",
    "    go.Bar(name='Train Accuracy', x=keys, y=train_values),\n",
    "    go.Bar(name='Test Accuracy', x=keys, y=test_values)\n",
    "])\n",
    "fig.update_layout(title='Train Accuracy vs Test Accuracy',\n",
    "                  xaxis_title='Topics',\n",
    "                  yaxis_title='Accuracies',\n",
    "                  barmode='group')\n",
    "fig.show()"
   ]
  },
  {
   "cell_type": "code",
   "execution_count": 76,
   "id": "92477c6a",
   "metadata": {},
   "outputs": [],
   "source": [
    "with open(\"./streamlit_resources/log_model_accuracy_2.json\", 'w+') as f:\n",
    "    f.write(fig.to_json())\n"
   ]
  },
  {
   "cell_type": "code",
   "execution_count": null,
   "id": "4ec90a70",
   "metadata": {},
   "outputs": [],
   "source": []
  },
  {
   "cell_type": "code",
   "execution_count": null,
   "id": "8c220e55",
   "metadata": {},
   "outputs": [],
   "source": []
  }
 ],
 "metadata": {
  "kernelspec": {
   "display_name": "Python 3",
   "language": "python",
   "name": "python3"
  },
  "language_info": {
   "codemirror_mode": {
    "name": "ipython",
    "version": 3
   },
   "file_extension": ".py",
   "mimetype": "text/x-python",
   "name": "python",
   "nbconvert_exporter": "python",
   "pygments_lexer": "ipython3",
   "version": "3.11.0"
  }
 },
 "nbformat": 4,
 "nbformat_minor": 5
}
